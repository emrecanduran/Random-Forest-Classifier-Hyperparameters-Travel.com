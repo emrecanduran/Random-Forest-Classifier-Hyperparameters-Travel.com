{
 "cells": [
  {
   "cell_type": "markdown",
   "id": "43b6aff9",
   "metadata": {},
   "source": [
    "*Travel dataset description*\n",
    "\n",
    "### Overview\n",
    "\n",
    "\"Travel.com\" company wants to enable and establish a viable business model to expand the customer base. One of the ways to expand the customer base is to introduce a new offering of packages. Currently, there are 5 types of packages the company is offering - Basic, Standard, Deluxe, Super Deluxe, King. Looking at the data of the last year, we observed that 18% of the customers purchased the packages. However, the marketing cost was quite high because customers were contacted at random without looking at the available information. The company is now planning to launch a new product i.e. Wellness Tourism Package. Wellness Tourism is defined as Travel that allows the traveler to maintain, enhance or kick-start a healthy lifestyle, and support or increase one's sense of well-being. However, this time company wants to harness the available data of existing and potential customers to make the marketing expenditure more efficient. \n",
    "\n",
    "### Dataset \n",
    "\n",
    "https://www.kaggle.com/datasets/susant4learning/holiday-package-purchase-prediction\n",
    "\n",
    "- **CustomerID**: Unique customer ID \n",
    "- **ProdTaken**: Taken product: 1/0 (Target) \n",
    "- **Age**: Age of the customer \n",
    "- **TypeofContact**: How customer was contacted (Company invited or Self Inquiry)\n",
    "- **CityTier**: City tier depends on the development of a city, population, facilities, and living standards. The categories are ordered i.e. \n",
    "- **DurationOfPitch**: Duration of the pitch by a salesperson to the customer. (minute)\n",
    "- **Occupation**: Occupation of the customer. \n",
    "- **Gender**: Gender of the customer. \n",
    "- **NumberOfPersonVisiting**: Total number of persons planning to take the trip with the customer. \n",
    "- **NumberOfFollowups**: Total number of follow-ups has been done by the salesperson after the sales pitch. \n",
    "- **ProductPitched**: Product pitched by the salesperson. \n",
    "- **PreferredPropertyStar**: Preferred hotel property rating by customer. \n",
    "- **MaritalStatus**: Marital status of the customer.\n",
    "- **NumberOfTrips**: Average number of trips in a year by customer. \n",
    "- **Passport**: The customer has a passport or not (0: No, 1: Yes). \n",
    "- **PitchSatisfactionScore**: Sales pitch satisfaction score. \n",
    "- **OwnCar**: Whether the customers own a car or not (0: No, 1: Yes). \n",
    "- **NumberOfChildrenVisiting**: Total number of children with age less than 5 planning to take the trip with the customer. \n",
    "- **Designation**: Designation of the customer in the current organization. \n",
    "- **MonthlyIncome**: Gross monthly income of the customer. \n",
    "\n",
    "### Tasks:\n",
    "\n",
    "We need to analyze the customers' data and information to provide recommendations to the Policy Maker and Marketing Team and also build a model to predict the potential customer who is going to purchase the newly introduced travel package.\n",
    "\n",
    "- To predict which customer is more likely to purchase the newly introduced travel package.\n",
    "- Which variables are most significant. "
   ]
  },
  {
   "cell_type": "markdown",
   "id": "5830711b",
   "metadata": {},
   "source": [
    "## Requirements"
   ]
  },
  {
   "cell_type": "code",
   "execution_count": 1,
   "id": "a9891d47",
   "metadata": {},
   "outputs": [],
   "source": [
    "import pandas as pd\n",
    "import matplotlib.pyplot as plt\n",
    "import re\n",
    "import numpy as np\n",
    "import seaborn as sns\n",
    "import os\n",
    "\n",
    "from sklearn.model_selection import cross_val_score, train_test_split\n",
    "import category_encoders as ce\n",
    "import statsmodels.api as sm\n",
    "\n",
    "from sklearn.metrics import roc_curve, auc\n",
    "import warnings\n",
    "from scipy import stats\n",
    "from sklearn.model_selection import train_test_split\n",
    "import time\n",
    "from sklearn.ensemble import RandomForestClassifier\n",
    "\n",
    "from sklearn.model_selection import RandomizedSearchCV\n",
    "from scipy.stats import randint\n",
    "from sklearn.metrics import classification_report\n",
    "from sklearn import tree\n",
    "from sklearn.metrics import accuracy_score, confusion_matrix, ConfusionMatrixDisplay"
   ]
  },
  {
   "cell_type": "markdown",
   "id": "f9123766",
   "metadata": {},
   "source": [
    "### Helper funtions:"
   ]
  },
  {
   "cell_type": "code",
   "execution_count": 2,
   "id": "95aa4846",
   "metadata": {},
   "outputs": [],
   "source": [
    "def corr(ds, columns=None):\n",
    "    if columns is None:\n",
    "        correlation = ds.corr()\n",
    "    else:\n",
    "        correlation = ds[columns].corr()\n",
    "\n",
    "    # Generate a lower triangle mask\n",
    "    mask = np.triu(np.ones_like(correlation, dtype=bool))\n",
    "\n",
    "    # Set up the figure and axes\n",
    "    fig, ax = plt.subplots(figsize=(12, 8))\n",
    "\n",
    "    # Create the heatmap\n",
    "    sns.heatmap(correlation,\n",
    "                mask=mask,\n",
    "                square=True,\n",
    "                linewidths=.5,\n",
    "                cmap='viridis',\n",
    "                vmin=-1,\n",
    "                vmax=1,\n",
    "                annot=True,\n",
    "                annot_kws={'size': 10})\n",
    "\n",
    "    # Set the tick labels rotation\n",
    "    ax.set_xticklabels(correlation.columns, rotation=90)\n",
    "    ax.set_yticklabels(correlation.columns, rotation=0)\n",
    "\n",
    "    # Set the style\n",
    "    sns.set_style({'xtick.bottom': True}, {'ytick.left': True})"
   ]
  },
  {
   "cell_type": "code",
   "execution_count": 3,
   "id": "5e71c061",
   "metadata": {},
   "outputs": [],
   "source": [
    "def auc_plot(y_test, y_pred_test_proba):\n",
    "    '''\n",
    "    Plot the ROC curve.\n",
    "    '''\n",
    "    fpr, tpr, _ = roc_curve(y_test, y_pred_test_proba)\n",
    "    auc_keras = auc(fpr, tpr)\n",
    "    plt.plot([0, 1], [0, 1], 'k--')\n",
    "    plt.plot(fpr, tpr, label='AUC (area = {:.3f})'.format(auc_keras), color=\"g\")\n",
    "    plt.grid(axis='both', linestyle='--', color=\"#add8e6\")\n",
    "    plt.xlabel('False positive rate')\n",
    "    plt.ylabel('True positive rate')\n",
    "    plt.title('ROC curve')\n",
    "    plt.legend(loc='best')\n",
    "    plt.show();"
   ]
  },
  {
   "cell_type": "code",
   "execution_count": 4,
   "id": "bae3aa81",
   "metadata": {},
   "outputs": [],
   "source": [
    "def plot_feature_importances(model, feature_names):\n",
    "    '''\n",
    "    Plot the feature importances of a Random Forest classifier.\n",
    "    '''\n",
    "    importances = model.feature_importances_\n",
    "    indices = np.argsort(importances)[::-1]\n",
    "\n",
    "    plt.figure()\n",
    "    plt.bar(range(len(importances)), importances[indices], color='g')\n",
    "    plt.xticks(range(len(importances)), feature_names[indices], rotation='vertical')\n",
    "    plt.xlabel('Features')\n",
    "    plt.ylabel('Importance')\n",
    "    plt.title('Feature Importances')\n",
    "    plt.show()"
   ]
  },
  {
   "cell_type": "code",
   "execution_count": 5,
   "id": "f7e9d9f9",
   "metadata": {},
   "outputs": [],
   "source": [
    "def get_feature_importances(X_train, rf_model):\n",
    "    rf_importances = pd.DataFrame({\n",
    "        \"Column\": X_train.columns,\n",
    "        \"Importance\": rf_model.feature_importances_\n",
    "    })\n",
    "    rf_importances = rf_importances.sort_values(by=\"Importance\", ascending=False)\n",
    "    return rf_importances"
   ]
  },
  {
   "cell_type": "markdown",
   "id": "15dac5a0",
   "metadata": {},
   "source": [
    "### Loading the data"
   ]
  },
  {
   "cell_type": "code",
   "execution_count": 6,
   "id": "db6f8716",
   "metadata": {},
   "outputs": [],
   "source": [
    "travel = pd.read_csv('Travel.csv')"
   ]
  },
  {
   "cell_type": "code",
   "execution_count": 7,
   "id": "742e2bd4",
   "metadata": {
    "scrolled": true
   },
   "outputs": [
    {
     "data": {
      "text/html": [
       "<div>\n",
       "<style scoped>\n",
       "    .dataframe tbody tr th:only-of-type {\n",
       "        vertical-align: middle;\n",
       "    }\n",
       "\n",
       "    .dataframe tbody tr th {\n",
       "        vertical-align: top;\n",
       "    }\n",
       "\n",
       "    .dataframe thead th {\n",
       "        text-align: right;\n",
       "    }\n",
       "</style>\n",
       "<table border=\"1\" class=\"dataframe\">\n",
       "  <thead>\n",
       "    <tr style=\"text-align: right;\">\n",
       "      <th></th>\n",
       "      <th>CustomerID</th>\n",
       "      <th>ProdTaken</th>\n",
       "      <th>Age</th>\n",
       "      <th>TypeofContact</th>\n",
       "      <th>CityTier</th>\n",
       "      <th>DurationOfPitch</th>\n",
       "      <th>Occupation</th>\n",
       "      <th>Gender</th>\n",
       "      <th>NumberOfPersonVisiting</th>\n",
       "      <th>NumberOfFollowups</th>\n",
       "      <th>ProductPitched</th>\n",
       "      <th>PreferredPropertyStar</th>\n",
       "      <th>MaritalStatus</th>\n",
       "      <th>NumberOfTrips</th>\n",
       "      <th>Passport</th>\n",
       "      <th>PitchSatisfactionScore</th>\n",
       "      <th>OwnCar</th>\n",
       "      <th>NumberOfChildrenVisiting</th>\n",
       "      <th>Designation</th>\n",
       "      <th>MonthlyIncome</th>\n",
       "    </tr>\n",
       "  </thead>\n",
       "  <tbody>\n",
       "    <tr>\n",
       "      <th>0</th>\n",
       "      <td>200000</td>\n",
       "      <td>1</td>\n",
       "      <td>41.0</td>\n",
       "      <td>Self Enquiry</td>\n",
       "      <td>3</td>\n",
       "      <td>6.0</td>\n",
       "      <td>Salaried</td>\n",
       "      <td>Female</td>\n",
       "      <td>3</td>\n",
       "      <td>3.0</td>\n",
       "      <td>Deluxe</td>\n",
       "      <td>3.0</td>\n",
       "      <td>Single</td>\n",
       "      <td>1.0</td>\n",
       "      <td>1</td>\n",
       "      <td>2</td>\n",
       "      <td>1</td>\n",
       "      <td>0.0</td>\n",
       "      <td>Manager</td>\n",
       "      <td>20993.0</td>\n",
       "    </tr>\n",
       "    <tr>\n",
       "      <th>1</th>\n",
       "      <td>200001</td>\n",
       "      <td>0</td>\n",
       "      <td>49.0</td>\n",
       "      <td>Company Invited</td>\n",
       "      <td>1</td>\n",
       "      <td>14.0</td>\n",
       "      <td>Salaried</td>\n",
       "      <td>Male</td>\n",
       "      <td>3</td>\n",
       "      <td>4.0</td>\n",
       "      <td>Deluxe</td>\n",
       "      <td>4.0</td>\n",
       "      <td>Divorced</td>\n",
       "      <td>2.0</td>\n",
       "      <td>0</td>\n",
       "      <td>3</td>\n",
       "      <td>1</td>\n",
       "      <td>2.0</td>\n",
       "      <td>Manager</td>\n",
       "      <td>20130.0</td>\n",
       "    </tr>\n",
       "    <tr>\n",
       "      <th>2</th>\n",
       "      <td>200002</td>\n",
       "      <td>1</td>\n",
       "      <td>37.0</td>\n",
       "      <td>Self Enquiry</td>\n",
       "      <td>1</td>\n",
       "      <td>8.0</td>\n",
       "      <td>Free Lancer</td>\n",
       "      <td>Male</td>\n",
       "      <td>3</td>\n",
       "      <td>4.0</td>\n",
       "      <td>Basic</td>\n",
       "      <td>3.0</td>\n",
       "      <td>Single</td>\n",
       "      <td>7.0</td>\n",
       "      <td>1</td>\n",
       "      <td>3</td>\n",
       "      <td>0</td>\n",
       "      <td>0.0</td>\n",
       "      <td>Executive</td>\n",
       "      <td>17090.0</td>\n",
       "    </tr>\n",
       "    <tr>\n",
       "      <th>3</th>\n",
       "      <td>200003</td>\n",
       "      <td>0</td>\n",
       "      <td>33.0</td>\n",
       "      <td>Company Invited</td>\n",
       "      <td>1</td>\n",
       "      <td>9.0</td>\n",
       "      <td>Salaried</td>\n",
       "      <td>Female</td>\n",
       "      <td>2</td>\n",
       "      <td>3.0</td>\n",
       "      <td>Basic</td>\n",
       "      <td>3.0</td>\n",
       "      <td>Divorced</td>\n",
       "      <td>2.0</td>\n",
       "      <td>1</td>\n",
       "      <td>5</td>\n",
       "      <td>1</td>\n",
       "      <td>1.0</td>\n",
       "      <td>Executive</td>\n",
       "      <td>17909.0</td>\n",
       "    </tr>\n",
       "    <tr>\n",
       "      <th>4</th>\n",
       "      <td>200004</td>\n",
       "      <td>0</td>\n",
       "      <td>NaN</td>\n",
       "      <td>Self Enquiry</td>\n",
       "      <td>1</td>\n",
       "      <td>8.0</td>\n",
       "      <td>Small Business</td>\n",
       "      <td>Male</td>\n",
       "      <td>2</td>\n",
       "      <td>3.0</td>\n",
       "      <td>Basic</td>\n",
       "      <td>4.0</td>\n",
       "      <td>Divorced</td>\n",
       "      <td>1.0</td>\n",
       "      <td>0</td>\n",
       "      <td>5</td>\n",
       "      <td>1</td>\n",
       "      <td>0.0</td>\n",
       "      <td>Executive</td>\n",
       "      <td>18468.0</td>\n",
       "    </tr>\n",
       "  </tbody>\n",
       "</table>\n",
       "</div>"
      ],
      "text/plain": [
       "   CustomerID  ProdTaken   Age    TypeofContact  CityTier  DurationOfPitch  \\\n",
       "0      200000          1  41.0     Self Enquiry         3              6.0   \n",
       "1      200001          0  49.0  Company Invited         1             14.0   \n",
       "2      200002          1  37.0     Self Enquiry         1              8.0   \n",
       "3      200003          0  33.0  Company Invited         1              9.0   \n",
       "4      200004          0   NaN     Self Enquiry         1              8.0   \n",
       "\n",
       "       Occupation  Gender  NumberOfPersonVisiting  NumberOfFollowups  \\\n",
       "0        Salaried  Female                       3                3.0   \n",
       "1        Salaried    Male                       3                4.0   \n",
       "2     Free Lancer    Male                       3                4.0   \n",
       "3        Salaried  Female                       2                3.0   \n",
       "4  Small Business    Male                       2                3.0   \n",
       "\n",
       "  ProductPitched  PreferredPropertyStar MaritalStatus  NumberOfTrips  \\\n",
       "0         Deluxe                    3.0        Single            1.0   \n",
       "1         Deluxe                    4.0      Divorced            2.0   \n",
       "2          Basic                    3.0        Single            7.0   \n",
       "3          Basic                    3.0      Divorced            2.0   \n",
       "4          Basic                    4.0      Divorced            1.0   \n",
       "\n",
       "   Passport  PitchSatisfactionScore  OwnCar  NumberOfChildrenVisiting  \\\n",
       "0         1                       2       1                       0.0   \n",
       "1         0                       3       1                       2.0   \n",
       "2         1                       3       0                       0.0   \n",
       "3         1                       5       1                       1.0   \n",
       "4         0                       5       1                       0.0   \n",
       "\n",
       "  Designation  MonthlyIncome  \n",
       "0     Manager        20993.0  \n",
       "1     Manager        20130.0  \n",
       "2   Executive        17090.0  \n",
       "3   Executive        17909.0  \n",
       "4   Executive        18468.0  "
      ]
     },
     "execution_count": 7,
     "metadata": {},
     "output_type": "execute_result"
    }
   ],
   "source": [
    "travel.head()"
   ]
  },
  {
   "cell_type": "code",
   "execution_count": 8,
   "id": "fa4d1865",
   "metadata": {},
   "outputs": [
    {
     "name": "stdout",
     "output_type": "stream",
     "text": [
      "<class 'pandas.core.frame.DataFrame'>\n",
      "RangeIndex: 4888 entries, 0 to 4887\n",
      "Data columns (total 20 columns):\n",
      " #   Column                    Non-Null Count  Dtype  \n",
      "---  ------                    --------------  -----  \n",
      " 0   CustomerID                4888 non-null   int64  \n",
      " 1   ProdTaken                 4888 non-null   int64  \n",
      " 2   Age                       4662 non-null   float64\n",
      " 3   TypeofContact             4863 non-null   object \n",
      " 4   CityTier                  4888 non-null   int64  \n",
      " 5   DurationOfPitch           4637 non-null   float64\n",
      " 6   Occupation                4888 non-null   object \n",
      " 7   Gender                    4888 non-null   object \n",
      " 8   NumberOfPersonVisiting    4888 non-null   int64  \n",
      " 9   NumberOfFollowups         4843 non-null   float64\n",
      " 10  ProductPitched            4888 non-null   object \n",
      " 11  PreferredPropertyStar     4862 non-null   float64\n",
      " 12  MaritalStatus             4888 non-null   object \n",
      " 13  NumberOfTrips             4748 non-null   float64\n",
      " 14  Passport                  4888 non-null   int64  \n",
      " 15  PitchSatisfactionScore    4888 non-null   int64  \n",
      " 16  OwnCar                    4888 non-null   int64  \n",
      " 17  NumberOfChildrenVisiting  4822 non-null   float64\n",
      " 18  Designation               4888 non-null   object \n",
      " 19  MonthlyIncome             4655 non-null   float64\n",
      "dtypes: float64(7), int64(7), object(6)\n",
      "memory usage: 763.9+ KB\n"
     ]
    }
   ],
   "source": [
    "travel.info()\n",
    "# Dataset has 4888 entries and 20 columns. Some columns have missing values.  "
   ]
  },
  {
   "cell_type": "code",
   "execution_count": 9,
   "id": "42cde616",
   "metadata": {},
   "outputs": [],
   "source": [
    "# Reformat variables.\n",
    "# string_cols = ['TypeofContact','Occupation','Gender','ProductPitched','MaritalStatus','Designation']\n",
    "# travel[string_cols] = travel[string_cols].astype('string')"
   ]
  },
  {
   "cell_type": "markdown",
   "id": "0f6ace89",
   "metadata": {},
   "source": [
    "## Data Understanding"
   ]
  },
  {
   "cell_type": "markdown",
   "id": "e946bd81",
   "metadata": {},
   "source": [
    "### Summary Statistics"
   ]
  },
  {
   "cell_type": "code",
   "execution_count": 10,
   "id": "3a7e1b8f",
   "metadata": {},
   "outputs": [
    {
     "data": {
      "text/html": [
       "<div>\n",
       "<style scoped>\n",
       "    .dataframe tbody tr th:only-of-type {\n",
       "        vertical-align: middle;\n",
       "    }\n",
       "\n",
       "    .dataframe tbody tr th {\n",
       "        vertical-align: top;\n",
       "    }\n",
       "\n",
       "    .dataframe thead th {\n",
       "        text-align: right;\n",
       "    }\n",
       "</style>\n",
       "<table border=\"1\" class=\"dataframe\">\n",
       "  <thead>\n",
       "    <tr style=\"text-align: right;\">\n",
       "      <th></th>\n",
       "      <th>count</th>\n",
       "      <th>unique</th>\n",
       "      <th>top</th>\n",
       "      <th>freq</th>\n",
       "      <th>mean</th>\n",
       "      <th>std</th>\n",
       "      <th>min</th>\n",
       "      <th>25%</th>\n",
       "      <th>50%</th>\n",
       "      <th>75%</th>\n",
       "      <th>max</th>\n",
       "    </tr>\n",
       "  </thead>\n",
       "  <tbody>\n",
       "    <tr>\n",
       "      <th>CustomerID</th>\n",
       "      <td>4888.0</td>\n",
       "      <td>NaN</td>\n",
       "      <td>NaN</td>\n",
       "      <td>NaN</td>\n",
       "      <td>202443.5</td>\n",
       "      <td>1411.188388</td>\n",
       "      <td>200000.0</td>\n",
       "      <td>201221.75</td>\n",
       "      <td>202443.5</td>\n",
       "      <td>203665.25</td>\n",
       "      <td>204887.0</td>\n",
       "    </tr>\n",
       "    <tr>\n",
       "      <th>ProdTaken</th>\n",
       "      <td>4888.0</td>\n",
       "      <td>NaN</td>\n",
       "      <td>NaN</td>\n",
       "      <td>NaN</td>\n",
       "      <td>0.188216</td>\n",
       "      <td>0.390925</td>\n",
       "      <td>0.0</td>\n",
       "      <td>0.0</td>\n",
       "      <td>0.0</td>\n",
       "      <td>0.0</td>\n",
       "      <td>1.0</td>\n",
       "    </tr>\n",
       "    <tr>\n",
       "      <th>Age</th>\n",
       "      <td>4662.0</td>\n",
       "      <td>NaN</td>\n",
       "      <td>NaN</td>\n",
       "      <td>NaN</td>\n",
       "      <td>37.622265</td>\n",
       "      <td>9.316387</td>\n",
       "      <td>18.0</td>\n",
       "      <td>31.0</td>\n",
       "      <td>36.0</td>\n",
       "      <td>44.0</td>\n",
       "      <td>61.0</td>\n",
       "    </tr>\n",
       "    <tr>\n",
       "      <th>TypeofContact</th>\n",
       "      <td>4863</td>\n",
       "      <td>2</td>\n",
       "      <td>Self Enquiry</td>\n",
       "      <td>3444</td>\n",
       "      <td>NaN</td>\n",
       "      <td>NaN</td>\n",
       "      <td>NaN</td>\n",
       "      <td>NaN</td>\n",
       "      <td>NaN</td>\n",
       "      <td>NaN</td>\n",
       "      <td>NaN</td>\n",
       "    </tr>\n",
       "    <tr>\n",
       "      <th>CityTier</th>\n",
       "      <td>4888.0</td>\n",
       "      <td>NaN</td>\n",
       "      <td>NaN</td>\n",
       "      <td>NaN</td>\n",
       "      <td>1.654255</td>\n",
       "      <td>0.916583</td>\n",
       "      <td>1.0</td>\n",
       "      <td>1.0</td>\n",
       "      <td>1.0</td>\n",
       "      <td>3.0</td>\n",
       "      <td>3.0</td>\n",
       "    </tr>\n",
       "    <tr>\n",
       "      <th>DurationOfPitch</th>\n",
       "      <td>4637.0</td>\n",
       "      <td>NaN</td>\n",
       "      <td>NaN</td>\n",
       "      <td>NaN</td>\n",
       "      <td>15.490835</td>\n",
       "      <td>8.519643</td>\n",
       "      <td>5.0</td>\n",
       "      <td>9.0</td>\n",
       "      <td>13.0</td>\n",
       "      <td>20.0</td>\n",
       "      <td>127.0</td>\n",
       "    </tr>\n",
       "    <tr>\n",
       "      <th>Occupation</th>\n",
       "      <td>4888</td>\n",
       "      <td>4</td>\n",
       "      <td>Salaried</td>\n",
       "      <td>2368</td>\n",
       "      <td>NaN</td>\n",
       "      <td>NaN</td>\n",
       "      <td>NaN</td>\n",
       "      <td>NaN</td>\n",
       "      <td>NaN</td>\n",
       "      <td>NaN</td>\n",
       "      <td>NaN</td>\n",
       "    </tr>\n",
       "    <tr>\n",
       "      <th>Gender</th>\n",
       "      <td>4888</td>\n",
       "      <td>3</td>\n",
       "      <td>Male</td>\n",
       "      <td>2916</td>\n",
       "      <td>NaN</td>\n",
       "      <td>NaN</td>\n",
       "      <td>NaN</td>\n",
       "      <td>NaN</td>\n",
       "      <td>NaN</td>\n",
       "      <td>NaN</td>\n",
       "      <td>NaN</td>\n",
       "    </tr>\n",
       "    <tr>\n",
       "      <th>NumberOfPersonVisiting</th>\n",
       "      <td>4888.0</td>\n",
       "      <td>NaN</td>\n",
       "      <td>NaN</td>\n",
       "      <td>NaN</td>\n",
       "      <td>2.905074</td>\n",
       "      <td>0.724891</td>\n",
       "      <td>1.0</td>\n",
       "      <td>2.0</td>\n",
       "      <td>3.0</td>\n",
       "      <td>3.0</td>\n",
       "      <td>5.0</td>\n",
       "    </tr>\n",
       "    <tr>\n",
       "      <th>NumberOfFollowups</th>\n",
       "      <td>4843.0</td>\n",
       "      <td>NaN</td>\n",
       "      <td>NaN</td>\n",
       "      <td>NaN</td>\n",
       "      <td>3.708445</td>\n",
       "      <td>1.002509</td>\n",
       "      <td>1.0</td>\n",
       "      <td>3.0</td>\n",
       "      <td>4.0</td>\n",
       "      <td>4.0</td>\n",
       "      <td>6.0</td>\n",
       "    </tr>\n",
       "    <tr>\n",
       "      <th>ProductPitched</th>\n",
       "      <td>4888</td>\n",
       "      <td>5</td>\n",
       "      <td>Basic</td>\n",
       "      <td>1842</td>\n",
       "      <td>NaN</td>\n",
       "      <td>NaN</td>\n",
       "      <td>NaN</td>\n",
       "      <td>NaN</td>\n",
       "      <td>NaN</td>\n",
       "      <td>NaN</td>\n",
       "      <td>NaN</td>\n",
       "    </tr>\n",
       "    <tr>\n",
       "      <th>PreferredPropertyStar</th>\n",
       "      <td>4862.0</td>\n",
       "      <td>NaN</td>\n",
       "      <td>NaN</td>\n",
       "      <td>NaN</td>\n",
       "      <td>3.581037</td>\n",
       "      <td>0.798009</td>\n",
       "      <td>3.0</td>\n",
       "      <td>3.0</td>\n",
       "      <td>3.0</td>\n",
       "      <td>4.0</td>\n",
       "      <td>5.0</td>\n",
       "    </tr>\n",
       "    <tr>\n",
       "      <th>MaritalStatus</th>\n",
       "      <td>4888</td>\n",
       "      <td>4</td>\n",
       "      <td>Married</td>\n",
       "      <td>2340</td>\n",
       "      <td>NaN</td>\n",
       "      <td>NaN</td>\n",
       "      <td>NaN</td>\n",
       "      <td>NaN</td>\n",
       "      <td>NaN</td>\n",
       "      <td>NaN</td>\n",
       "      <td>NaN</td>\n",
       "    </tr>\n",
       "    <tr>\n",
       "      <th>NumberOfTrips</th>\n",
       "      <td>4748.0</td>\n",
       "      <td>NaN</td>\n",
       "      <td>NaN</td>\n",
       "      <td>NaN</td>\n",
       "      <td>3.236521</td>\n",
       "      <td>1.849019</td>\n",
       "      <td>1.0</td>\n",
       "      <td>2.0</td>\n",
       "      <td>3.0</td>\n",
       "      <td>4.0</td>\n",
       "      <td>22.0</td>\n",
       "    </tr>\n",
       "    <tr>\n",
       "      <th>Passport</th>\n",
       "      <td>4888.0</td>\n",
       "      <td>NaN</td>\n",
       "      <td>NaN</td>\n",
       "      <td>NaN</td>\n",
       "      <td>0.290917</td>\n",
       "      <td>0.454232</td>\n",
       "      <td>0.0</td>\n",
       "      <td>0.0</td>\n",
       "      <td>0.0</td>\n",
       "      <td>1.0</td>\n",
       "      <td>1.0</td>\n",
       "    </tr>\n",
       "    <tr>\n",
       "      <th>PitchSatisfactionScore</th>\n",
       "      <td>4888.0</td>\n",
       "      <td>NaN</td>\n",
       "      <td>NaN</td>\n",
       "      <td>NaN</td>\n",
       "      <td>3.078151</td>\n",
       "      <td>1.365792</td>\n",
       "      <td>1.0</td>\n",
       "      <td>2.0</td>\n",
       "      <td>3.0</td>\n",
       "      <td>4.0</td>\n",
       "      <td>5.0</td>\n",
       "    </tr>\n",
       "    <tr>\n",
       "      <th>OwnCar</th>\n",
       "      <td>4888.0</td>\n",
       "      <td>NaN</td>\n",
       "      <td>NaN</td>\n",
       "      <td>NaN</td>\n",
       "      <td>0.620295</td>\n",
       "      <td>0.485363</td>\n",
       "      <td>0.0</td>\n",
       "      <td>0.0</td>\n",
       "      <td>1.0</td>\n",
       "      <td>1.0</td>\n",
       "      <td>1.0</td>\n",
       "    </tr>\n",
       "    <tr>\n",
       "      <th>NumberOfChildrenVisiting</th>\n",
       "      <td>4822.0</td>\n",
       "      <td>NaN</td>\n",
       "      <td>NaN</td>\n",
       "      <td>NaN</td>\n",
       "      <td>1.187267</td>\n",
       "      <td>0.857861</td>\n",
       "      <td>0.0</td>\n",
       "      <td>1.0</td>\n",
       "      <td>1.0</td>\n",
       "      <td>2.0</td>\n",
       "      <td>3.0</td>\n",
       "    </tr>\n",
       "    <tr>\n",
       "      <th>Designation</th>\n",
       "      <td>4888</td>\n",
       "      <td>5</td>\n",
       "      <td>Executive</td>\n",
       "      <td>1842</td>\n",
       "      <td>NaN</td>\n",
       "      <td>NaN</td>\n",
       "      <td>NaN</td>\n",
       "      <td>NaN</td>\n",
       "      <td>NaN</td>\n",
       "      <td>NaN</td>\n",
       "      <td>NaN</td>\n",
       "    </tr>\n",
       "    <tr>\n",
       "      <th>MonthlyIncome</th>\n",
       "      <td>4655.0</td>\n",
       "      <td>NaN</td>\n",
       "      <td>NaN</td>\n",
       "      <td>NaN</td>\n",
       "      <td>23619.853491</td>\n",
       "      <td>5380.698361</td>\n",
       "      <td>1000.0</td>\n",
       "      <td>20346.0</td>\n",
       "      <td>22347.0</td>\n",
       "      <td>25571.0</td>\n",
       "      <td>98678.0</td>\n",
       "    </tr>\n",
       "  </tbody>\n",
       "</table>\n",
       "</div>"
      ],
      "text/plain": [
       "                           count unique           top  freq          mean  \\\n",
       "CustomerID                4888.0    NaN           NaN   NaN      202443.5   \n",
       "ProdTaken                 4888.0    NaN           NaN   NaN      0.188216   \n",
       "Age                       4662.0    NaN           NaN   NaN     37.622265   \n",
       "TypeofContact               4863      2  Self Enquiry  3444           NaN   \n",
       "CityTier                  4888.0    NaN           NaN   NaN      1.654255   \n",
       "DurationOfPitch           4637.0    NaN           NaN   NaN     15.490835   \n",
       "Occupation                  4888      4      Salaried  2368           NaN   \n",
       "Gender                      4888      3          Male  2916           NaN   \n",
       "NumberOfPersonVisiting    4888.0    NaN           NaN   NaN      2.905074   \n",
       "NumberOfFollowups         4843.0    NaN           NaN   NaN      3.708445   \n",
       "ProductPitched              4888      5         Basic  1842           NaN   \n",
       "PreferredPropertyStar     4862.0    NaN           NaN   NaN      3.581037   \n",
       "MaritalStatus               4888      4       Married  2340           NaN   \n",
       "NumberOfTrips             4748.0    NaN           NaN   NaN      3.236521   \n",
       "Passport                  4888.0    NaN           NaN   NaN      0.290917   \n",
       "PitchSatisfactionScore    4888.0    NaN           NaN   NaN      3.078151   \n",
       "OwnCar                    4888.0    NaN           NaN   NaN      0.620295   \n",
       "NumberOfChildrenVisiting  4822.0    NaN           NaN   NaN      1.187267   \n",
       "Designation                 4888      5     Executive  1842           NaN   \n",
       "MonthlyIncome             4655.0    NaN           NaN   NaN  23619.853491   \n",
       "\n",
       "                                  std       min        25%       50%  \\\n",
       "CustomerID                1411.188388  200000.0  201221.75  202443.5   \n",
       "ProdTaken                    0.390925       0.0        0.0       0.0   \n",
       "Age                          9.316387      18.0       31.0      36.0   \n",
       "TypeofContact                     NaN       NaN        NaN       NaN   \n",
       "CityTier                     0.916583       1.0        1.0       1.0   \n",
       "DurationOfPitch              8.519643       5.0        9.0      13.0   \n",
       "Occupation                        NaN       NaN        NaN       NaN   \n",
       "Gender                            NaN       NaN        NaN       NaN   \n",
       "NumberOfPersonVisiting       0.724891       1.0        2.0       3.0   \n",
       "NumberOfFollowups            1.002509       1.0        3.0       4.0   \n",
       "ProductPitched                    NaN       NaN        NaN       NaN   \n",
       "PreferredPropertyStar        0.798009       3.0        3.0       3.0   \n",
       "MaritalStatus                     NaN       NaN        NaN       NaN   \n",
       "NumberOfTrips                1.849019       1.0        2.0       3.0   \n",
       "Passport                     0.454232       0.0        0.0       0.0   \n",
       "PitchSatisfactionScore       1.365792       1.0        2.0       3.0   \n",
       "OwnCar                       0.485363       0.0        0.0       1.0   \n",
       "NumberOfChildrenVisiting     0.857861       0.0        1.0       1.0   \n",
       "Designation                       NaN       NaN        NaN       NaN   \n",
       "MonthlyIncome             5380.698361    1000.0    20346.0   22347.0   \n",
       "\n",
       "                                75%       max  \n",
       "CustomerID                203665.25  204887.0  \n",
       "ProdTaken                       0.0       1.0  \n",
       "Age                            44.0      61.0  \n",
       "TypeofContact                   NaN       NaN  \n",
       "CityTier                        3.0       3.0  \n",
       "DurationOfPitch                20.0     127.0  \n",
       "Occupation                      NaN       NaN  \n",
       "Gender                          NaN       NaN  \n",
       "NumberOfPersonVisiting          3.0       5.0  \n",
       "NumberOfFollowups               4.0       6.0  \n",
       "ProductPitched                  NaN       NaN  \n",
       "PreferredPropertyStar           4.0       5.0  \n",
       "MaritalStatus                   NaN       NaN  \n",
       "NumberOfTrips                   4.0      22.0  \n",
       "Passport                        1.0       1.0  \n",
       "PitchSatisfactionScore          4.0       5.0  \n",
       "OwnCar                          1.0       1.0  \n",
       "NumberOfChildrenVisiting        2.0       3.0  \n",
       "Designation                     NaN       NaN  \n",
       "MonthlyIncome               25571.0   98678.0  "
      ]
     },
     "execution_count": 10,
     "metadata": {},
     "output_type": "execute_result"
    }
   ],
   "source": [
    "travel.describe(include='all').T"
   ]
  },
  {
   "cell_type": "markdown",
   "id": "cc5d97d6",
   "metadata": {},
   "source": [
    "- Prodtaken: Only 18.8% of customers have taken a product.\n",
    "- Age: The minimum age is 18, and the maximum age is 61. Average is 37.6. \n",
    "- TypeofContact: The most frequent type of contact is \"Self Enquiry,\" which appears 3,444 times.\n",
    "- DurationOfPitch: The shortest pitch duration is 5 minutes, while the longest is 127 minutes. Average is 15.4. \n",
    "- Occupation: \"Salaried\" being the most common, appearing 2,368 times.\n",
    "- Gender: There are three categories: \"Male\" is the most common, appearing 2,916 times. \n",
    "- NumberOfPersonVisiting: The average number of people visiting is approximately 2.9. The values range from 1 to 5.\n",
    "- NumberOfFollowups: The mean number of follow-ups is approximately 3.7. The values range from 1 to 6.\n",
    "- ProductPitched: This column indicates the product pitched to customers. There are five different product types, with \"Basic\" being the most common, appearing 1,842 times.\n",
    "- PreferredPropertyStar: The average preferred star rating is approximately 3.6. The values range from 3 to 5.\n",
    "- MaritalStatus: There are four categories, with \"Married\" being the most common, appearing 2,340 times.\n",
    "- NumberOfTrips: The mean number of trips is approximately 3.2. The values range from 1 to 22.\n",
    "- Passport: Approximately 29.1% of customers have a passport.\n",
    "- PitchSatisfactionScore: The average score is approximately 3.1. The values range from 1 to 5.\n",
    "- OwnCar: About 62.0% of customers own a car.\n",
    "- NumberOfChildrenVisiting: The average number of children visiting is approximately 1.2, with a standard deviation of 0.9. The values range from 0 to 3.\n",
    "- Designation: There are five different designations, with \"Executive\" being the most common, appearing 1,842 times.\n",
    "- MonthlyIncome: The average monthly income is approximately 23,620. The minimum income is 1,000, and the maximum income is 98,678 dollars."
   ]
  },
  {
   "cell_type": "code",
   "execution_count": 11,
   "id": "1cc828d0",
   "metadata": {},
   "outputs": [
    {
     "data": {
      "text/plain": [
       "0"
      ]
     },
     "execution_count": 11,
     "metadata": {},
     "output_type": "execute_result"
    }
   ],
   "source": [
    "travel.duplicated().sum()\n",
    "# No duplicate."
   ]
  },
  {
   "cell_type": "markdown",
   "id": "8b00a09b",
   "metadata": {},
   "source": [
    "### Frequency of Values "
   ]
  },
  {
   "cell_type": "code",
   "execution_count": 12,
   "id": "d1af1c76",
   "metadata": {
    "scrolled": false
   },
   "outputs": [
    {
     "name": "stdout",
     "output_type": "stream",
     "text": [
      "Column CustomerID has the following frequencies:\n",
      "200000    1\n",
      "203256    1\n",
      "203263    1\n",
      "203262    1\n",
      "203261    1\n",
      "         ..\n",
      "201628    1\n",
      "201627    1\n",
      "201626    1\n",
      "201625    1\n",
      "204887    1\n",
      "Name: CustomerID, Length: 4888, dtype: int64\n",
      "==============================\n",
      "Column ProdTaken has the following frequencies:\n",
      "0    3968\n",
      "1     920\n",
      "Name: ProdTaken, dtype: int64\n",
      "==============================\n",
      "Column Age has the following frequencies:\n",
      "35.0    237\n",
      "36.0    231\n",
      "NaN     226\n",
      "34.0    211\n",
      "31.0    203\n",
      "30.0    199\n",
      "32.0    197\n",
      "33.0    189\n",
      "37.0    185\n",
      "29.0    178\n",
      "38.0    176\n",
      "41.0    155\n",
      "39.0    150\n",
      "28.0    147\n",
      "40.0    146\n",
      "42.0    142\n",
      "27.0    138\n",
      "43.0    130\n",
      "46.0    121\n",
      "45.0    116\n",
      "26.0    106\n",
      "44.0    105\n",
      "51.0     90\n",
      "47.0     88\n",
      "50.0     86\n",
      "25.0     74\n",
      "52.0     68\n",
      "53.0     66\n",
      "49.0     65\n",
      "48.0     65\n",
      "55.0     64\n",
      "54.0     61\n",
      "56.0     58\n",
      "24.0     56\n",
      "23.0     46\n",
      "22.0     46\n",
      "59.0     44\n",
      "21.0     41\n",
      "20.0     38\n",
      "19.0     32\n",
      "58.0     31\n",
      "57.0     29\n",
      "60.0     29\n",
      "18.0     14\n",
      "61.0      9\n",
      "Name: Age, dtype: int64\n",
      "==============================\n",
      "Column TypeofContact has the following frequencies:\n",
      "Self Enquiry       3444\n",
      "Company Invited    1419\n",
      "NaN                  25\n",
      "Name: TypeofContact, dtype: int64\n",
      "==============================\n",
      "Column CityTier has the following frequencies:\n",
      "1    3190\n",
      "3    1500\n",
      "2     198\n",
      "Name: CityTier, dtype: int64\n",
      "==============================\n",
      "Column DurationOfPitch has the following frequencies:\n",
      "9.0      483\n",
      "7.0      342\n",
      "8.0      333\n",
      "6.0      307\n",
      "16.0     274\n",
      "15.0     269\n",
      "14.0     253\n",
      "NaN      251\n",
      "10.0     244\n",
      "13.0     223\n",
      "11.0     205\n",
      "12.0     195\n",
      "17.0     172\n",
      "30.0      95\n",
      "22.0      89\n",
      "31.0      83\n",
      "23.0      79\n",
      "18.0      75\n",
      "29.0      74\n",
      "32.0      74\n",
      "25.0      73\n",
      "21.0      73\n",
      "27.0      72\n",
      "26.0      72\n",
      "24.0      70\n",
      "35.0      66\n",
      "20.0      65\n",
      "28.0      61\n",
      "33.0      57\n",
      "19.0      57\n",
      "34.0      50\n",
      "36.0      44\n",
      "5.0        6\n",
      "126.0      1\n",
      "127.0      1\n",
      "Name: DurationOfPitch, dtype: int64\n",
      "==============================\n",
      "Column Occupation has the following frequencies:\n",
      "Salaried          2368\n",
      "Small Business    2084\n",
      "Large Business     434\n",
      "Free Lancer          2\n",
      "Name: Occupation, dtype: int64\n",
      "==============================\n",
      "Column Gender has the following frequencies:\n",
      "Male       2916\n",
      "Female     1817\n",
      "Fe Male     155\n",
      "Name: Gender, dtype: int64\n",
      "==============================\n",
      "Column NumberOfPersonVisiting has the following frequencies:\n",
      "3    2402\n",
      "2    1418\n",
      "4    1026\n",
      "1      39\n",
      "5       3\n",
      "Name: NumberOfPersonVisiting, dtype: int64\n",
      "==============================\n",
      "Column NumberOfFollowups has the following frequencies:\n",
      "4.0    2068\n",
      "3.0    1466\n",
      "5.0     768\n",
      "2.0     229\n",
      "1.0     176\n",
      "6.0     136\n",
      "NaN      45\n",
      "Name: NumberOfFollowups, dtype: int64\n",
      "==============================\n",
      "Column ProductPitched has the following frequencies:\n",
      "Basic           1842\n",
      "Deluxe          1732\n",
      "Standard         742\n",
      "Super Deluxe     342\n",
      "King             230\n",
      "Name: ProductPitched, dtype: int64\n",
      "==============================\n",
      "Column PreferredPropertyStar has the following frequencies:\n",
      "3.0    2993\n",
      "5.0     956\n",
      "4.0     913\n",
      "NaN      26\n",
      "Name: PreferredPropertyStar, dtype: int64\n",
      "==============================\n",
      "Column MaritalStatus has the following frequencies:\n",
      "Married      2340\n",
      "Divorced      950\n",
      "Single        916\n",
      "Unmarried     682\n",
      "Name: MaritalStatus, dtype: int64\n",
      "==============================\n",
      "Column NumberOfTrips has the following frequencies:\n",
      "2.0     1464\n",
      "3.0     1079\n",
      "1.0      620\n",
      "4.0      478\n",
      "5.0      458\n",
      "6.0      322\n",
      "7.0      218\n",
      "NaN      140\n",
      "8.0      105\n",
      "19.0       1\n",
      "21.0       1\n",
      "20.0       1\n",
      "22.0       1\n",
      "Name: NumberOfTrips, dtype: int64\n",
      "==============================\n",
      "Column Passport has the following frequencies:\n",
      "0    3466\n",
      "1    1422\n",
      "Name: Passport, dtype: int64\n",
      "==============================\n",
      "Column PitchSatisfactionScore has the following frequencies:\n",
      "3    1478\n",
      "5     970\n",
      "1     942\n",
      "4     912\n",
      "2     586\n",
      "Name: PitchSatisfactionScore, dtype: int64\n",
      "==============================\n",
      "Column OwnCar has the following frequencies:\n",
      "1    3032\n",
      "0    1856\n",
      "Name: OwnCar, dtype: int64\n",
      "==============================\n",
      "Column NumberOfChildrenVisiting has the following frequencies:\n",
      "1.0    2080\n",
      "2.0    1335\n",
      "0.0    1082\n",
      "3.0     325\n",
      "NaN      66\n",
      "Name: NumberOfChildrenVisiting, dtype: int64\n",
      "==============================\n",
      "Column Designation has the following frequencies:\n",
      "Executive         1842\n",
      "Manager           1732\n",
      "Senior Manager     742\n",
      "AVP                342\n",
      "VP                 230\n",
      "Name: Designation, dtype: int64\n",
      "==============================\n",
      "Column MonthlyIncome has the following frequencies:\n",
      "NaN        233\n",
      "20855.0      7\n",
      "21020.0      7\n",
      "21288.0      7\n",
      "17342.0      7\n",
      "          ... \n",
      "17074.0      1\n",
      "24250.0      1\n",
      "21077.0      1\n",
      "24714.0      1\n",
      "21471.0      1\n",
      "Name: MonthlyIncome, Length: 2476, dtype: int64\n",
      "==============================\n"
     ]
    }
   ],
   "source": [
    "for col_name in travel.columns: \n",
    "    print(f'Column {col_name} has the following frequencies:')\n",
    "    print(travel[col_name].value_counts(dropna=False))\n",
    "    print('=' * 30)"
   ]
  },
  {
   "cell_type": "markdown",
   "id": "dc8eee81",
   "metadata": {},
   "source": [
    "## Data Cleaning & Transformation"
   ]
  },
  {
   "cell_type": "code",
   "execution_count": 13,
   "id": "a171336e",
   "metadata": {},
   "outputs": [],
   "source": [
    "# Replace \"Fe male\" with \"Female\" (case-insensitive) and handle leading/trailing whitespaces\n",
    "travel['Gender'] = travel['Gender'].str.replace(r'^\\s*Fe\\s*male\\s*$', 'Female', regex=True, flags=re.IGNORECASE)"
   ]
  },
  {
   "cell_type": "code",
   "execution_count": 14,
   "id": "681c1ec7",
   "metadata": {
    "scrolled": true
   },
   "outputs": [
    {
     "data": {
      "text/plain": [
       "Male      2916\n",
       "Female    1972\n",
       "Name: Gender, dtype: int64"
      ]
     },
     "execution_count": 14,
     "metadata": {},
     "output_type": "execute_result"
    }
   ],
   "source": [
    "travel['Gender'].value_counts()"
   ]
  },
  {
   "cell_type": "markdown",
   "id": "b0e30dd3",
   "metadata": {},
   "source": [
    "### Missing Values"
   ]
  },
  {
   "cell_type": "code",
   "execution_count": 15,
   "id": "d770b1e0",
   "metadata": {},
   "outputs": [
    {
     "name": "stdout",
     "output_type": "stream",
     "text": [
      "Count and percantage of missing values for the columns:\n"
     ]
    },
    {
     "data": {
      "text/html": [
       "<div>\n",
       "<style scoped>\n",
       "    .dataframe tbody tr th:only-of-type {\n",
       "        vertical-align: middle;\n",
       "    }\n",
       "\n",
       "    .dataframe tbody tr th {\n",
       "        vertical-align: top;\n",
       "    }\n",
       "\n",
       "    .dataframe thead th {\n",
       "        text-align: right;\n",
       "    }\n",
       "</style>\n",
       "<table border=\"1\" class=\"dataframe\">\n",
       "  <thead>\n",
       "    <tr style=\"text-align: right;\">\n",
       "      <th></th>\n",
       "      <th>Count</th>\n",
       "      <th>Percentage</th>\n",
       "    </tr>\n",
       "  </thead>\n",
       "  <tbody>\n",
       "    <tr>\n",
       "      <th>DurationOfPitch</th>\n",
       "      <td>251</td>\n",
       "      <td>5.135025</td>\n",
       "    </tr>\n",
       "    <tr>\n",
       "      <th>MonthlyIncome</th>\n",
       "      <td>233</td>\n",
       "      <td>4.766776</td>\n",
       "    </tr>\n",
       "    <tr>\n",
       "      <th>Age</th>\n",
       "      <td>226</td>\n",
       "      <td>4.623568</td>\n",
       "    </tr>\n",
       "    <tr>\n",
       "      <th>NumberOfTrips</th>\n",
       "      <td>140</td>\n",
       "      <td>2.864157</td>\n",
       "    </tr>\n",
       "    <tr>\n",
       "      <th>NumberOfChildrenVisiting</th>\n",
       "      <td>66</td>\n",
       "      <td>1.350245</td>\n",
       "    </tr>\n",
       "    <tr>\n",
       "      <th>NumberOfFollowups</th>\n",
       "      <td>45</td>\n",
       "      <td>0.920622</td>\n",
       "    </tr>\n",
       "    <tr>\n",
       "      <th>PreferredPropertyStar</th>\n",
       "      <td>26</td>\n",
       "      <td>0.531915</td>\n",
       "    </tr>\n",
       "    <tr>\n",
       "      <th>TypeofContact</th>\n",
       "      <td>25</td>\n",
       "      <td>0.511457</td>\n",
       "    </tr>\n",
       "    <tr>\n",
       "      <th>Designation</th>\n",
       "      <td>0</td>\n",
       "      <td>0.000000</td>\n",
       "    </tr>\n",
       "    <tr>\n",
       "      <th>OwnCar</th>\n",
       "      <td>0</td>\n",
       "      <td>0.000000</td>\n",
       "    </tr>\n",
       "    <tr>\n",
       "      <th>PitchSatisfactionScore</th>\n",
       "      <td>0</td>\n",
       "      <td>0.000000</td>\n",
       "    </tr>\n",
       "    <tr>\n",
       "      <th>Passport</th>\n",
       "      <td>0</td>\n",
       "      <td>0.000000</td>\n",
       "    </tr>\n",
       "    <tr>\n",
       "      <th>CustomerID</th>\n",
       "      <td>0</td>\n",
       "      <td>0.000000</td>\n",
       "    </tr>\n",
       "    <tr>\n",
       "      <th>MaritalStatus</th>\n",
       "      <td>0</td>\n",
       "      <td>0.000000</td>\n",
       "    </tr>\n",
       "    <tr>\n",
       "      <th>ProdTaken</th>\n",
       "      <td>0</td>\n",
       "      <td>0.000000</td>\n",
       "    </tr>\n",
       "    <tr>\n",
       "      <th>NumberOfPersonVisiting</th>\n",
       "      <td>0</td>\n",
       "      <td>0.000000</td>\n",
       "    </tr>\n",
       "    <tr>\n",
       "      <th>Gender</th>\n",
       "      <td>0</td>\n",
       "      <td>0.000000</td>\n",
       "    </tr>\n",
       "    <tr>\n",
       "      <th>Occupation</th>\n",
       "      <td>0</td>\n",
       "      <td>0.000000</td>\n",
       "    </tr>\n",
       "    <tr>\n",
       "      <th>CityTier</th>\n",
       "      <td>0</td>\n",
       "      <td>0.000000</td>\n",
       "    </tr>\n",
       "    <tr>\n",
       "      <th>ProductPitched</th>\n",
       "      <td>0</td>\n",
       "      <td>0.000000</td>\n",
       "    </tr>\n",
       "  </tbody>\n",
       "</table>\n",
       "</div>"
      ],
      "text/plain": [
       "                          Count  Percentage\n",
       "DurationOfPitch             251    5.135025\n",
       "MonthlyIncome               233    4.766776\n",
       "Age                         226    4.623568\n",
       "NumberOfTrips               140    2.864157\n",
       "NumberOfChildrenVisiting     66    1.350245\n",
       "NumberOfFollowups            45    0.920622\n",
       "PreferredPropertyStar        26    0.531915\n",
       "TypeofContact                25    0.511457\n",
       "Designation                   0    0.000000\n",
       "OwnCar                        0    0.000000\n",
       "PitchSatisfactionScore        0    0.000000\n",
       "Passport                      0    0.000000\n",
       "CustomerID                    0    0.000000\n",
       "MaritalStatus                 0    0.000000\n",
       "ProdTaken                     0    0.000000\n",
       "NumberOfPersonVisiting        0    0.000000\n",
       "Gender                        0    0.000000\n",
       "Occupation                    0    0.000000\n",
       "CityTier                      0    0.000000\n",
       "ProductPitched                0    0.000000"
      ]
     },
     "execution_count": 15,
     "metadata": {},
     "output_type": "execute_result"
    }
   ],
   "source": [
    "count = travel.isnull().sum().sort_values(ascending=False)\n",
    "percentage = ((travel.isnull().sum()/len(travel)*100)).sort_values(ascending=False)\n",
    "missing_data = pd.concat([count, percentage], axis=1, \n",
    "keys = ['Count', 'Percentage'])\n",
    "\n",
    "print('Count and percantage of missing values for the columns:')\n",
    "\n",
    "missing_data"
   ]
  },
  {
   "cell_type": "markdown",
   "id": "d919ab01",
   "metadata": {},
   "source": [
    "### Impute NaN Values"
   ]
  },
  {
   "cell_type": "code",
   "execution_count": 16,
   "id": "7dd0e0a1",
   "metadata": {},
   "outputs": [
    {
     "data": {
      "text/plain": [
       "37.62226512226512"
      ]
     },
     "execution_count": 16,
     "metadata": {},
     "output_type": "execute_result"
    }
   ],
   "source": [
    "travel['Age'].mean()"
   ]
  },
  {
   "cell_type": "code",
   "execution_count": 17,
   "id": "8b3ec898",
   "metadata": {},
   "outputs": [],
   "source": [
    "# Imputed with mean since there is no outliers for 'Age' column. \n",
    "travel['Age'] = travel['Age'].fillna(38)"
   ]
  },
  {
   "cell_type": "code",
   "execution_count": 18,
   "id": "3c7f3eb1",
   "metadata": {},
   "outputs": [
    {
     "data": {
      "text/plain": [
       "22347.0"
      ]
     },
     "execution_count": 18,
     "metadata": {},
     "output_type": "execute_result"
    }
   ],
   "source": [
    "travel['MonthlyIncome'].median()"
   ]
  },
  {
   "cell_type": "code",
   "execution_count": 19,
   "id": "e9265368",
   "metadata": {},
   "outputs": [],
   "source": [
    "# Preferred median imputation because of the outliers. \n",
    "travel['MonthlyIncome'] = travel['MonthlyIncome'].fillna(22347)"
   ]
  },
  {
   "cell_type": "code",
   "execution_count": 20,
   "id": "1c51e755",
   "metadata": {},
   "outputs": [
    {
     "name": "stdout",
     "output_type": "stream",
     "text": [
      "Mode of NumberOfFollowups: 4.0\n",
      "Mode of PreferredPropertyStar: 3.0\n",
      "Mode of NumberOfTrips: 2.0\n",
      "Mode of NumberOfChildrenVisiting: 1.0\n",
      "Mode of TypeofContact: Self Enquiry\n"
     ]
    }
   ],
   "source": [
    "mode_cols = ['NumberOfFollowups', 'PreferredPropertyStar', 'NumberOfTrips', 'NumberOfChildrenVisiting', 'TypeofContact']\n",
    "\n",
    "for mode_col in mode_cols:\n",
    "    mode_value = travel[mode_col].mode().values[0]\n",
    "    print(f\"Mode of {mode_col}: {mode_value}\")"
   ]
  },
  {
   "cell_type": "code",
   "execution_count": 21,
   "id": "5fef3b4c",
   "metadata": {},
   "outputs": [],
   "source": [
    "mode_cols = ['NumberOfFollowups', 'PreferredPropertyStar', 'NumberOfTrips', 'NumberOfChildrenVisiting', 'TypeofContact']\n",
    "\n",
    "for mode_col in mode_cols:\n",
    "    mode_value = travel[mode_col].mode().values[0]\n",
    "    travel[mode_col] = travel[mode_col].fillna(mode_value)"
   ]
  },
  {
   "cell_type": "code",
   "execution_count": 22,
   "id": "a67f5d70",
   "metadata": {},
   "outputs": [
    {
     "name": "stdout",
     "output_type": "stream",
     "text": [
      "4.0    2113\n",
      "3.0    1466\n",
      "5.0     768\n",
      "2.0     229\n",
      "1.0     176\n",
      "6.0     136\n",
      "Name: NumberOfFollowups, dtype: int64\n",
      "3.0    3019\n",
      "5.0     956\n",
      "4.0     913\n",
      "Name: PreferredPropertyStar, dtype: int64\n",
      "2.0     1604\n",
      "3.0     1079\n",
      "1.0      620\n",
      "4.0      478\n",
      "5.0      458\n",
      "6.0      322\n",
      "7.0      218\n",
      "8.0      105\n",
      "19.0       1\n",
      "21.0       1\n",
      "20.0       1\n",
      "22.0       1\n",
      "Name: NumberOfTrips, dtype: int64\n",
      "1.0    2146\n",
      "2.0    1335\n",
      "0.0    1082\n",
      "3.0     325\n",
      "Name: NumberOfChildrenVisiting, dtype: int64\n",
      "Self Enquiry       3469\n",
      "Company Invited    1419\n",
      "Name: TypeofContact, dtype: int64\n"
     ]
    }
   ],
   "source": [
    "for mode_value_counts in mode_cols: \n",
    "    mode_counts = travel[mode_value_counts].value_counts()\n",
    "    print(mode_counts)"
   ]
  },
  {
   "cell_type": "code",
   "execution_count": 23,
   "id": "3ceef913",
   "metadata": {},
   "outputs": [
    {
     "name": "stdout",
     "output_type": "stream",
     "text": [
      "Imputed values:\n",
      "46      16.0\n",
      "75      28.0\n",
      "76      30.0\n",
      "84      11.0\n",
      "103      7.0\n",
      "        ... \n",
      "4215    15.0\n",
      "4427    19.0\n",
      "4641    33.0\n",
      "4678    21.0\n",
      "4825     6.0\n",
      "Name: DurationOfPitch, Length: 251, dtype: float64\n"
     ]
    }
   ],
   "source": [
    "# Since the values are close to eachother. It is applied weighted imputation.\n",
    "\n",
    "# Calculate the weights based on value frequencies\n",
    "value_counts = travel['DurationOfPitch'].value_counts()\n",
    "weights = value_counts / value_counts.sum()\n",
    "\n",
    "# Create an array of unique values with their corresponding weights\n",
    "unique_values = weights.index.tolist()\n",
    "unique_weights = weights.values.tolist()\n",
    "\n",
    "# Create a mask for missing values in the column\n",
    "mask = travel['DurationOfPitch'].isnull()\n",
    "\n",
    "# Set a random seed for reproducibility\n",
    "np.random.seed(42)\n",
    "\n",
    "# Generate random imputations based on weights\n",
    "imputations = np.random.choice(unique_values, size=mask.sum(), p=unique_weights)\n",
    "\n",
    "# Create a copy of the DataFrame to avoid modifying the original data\n",
    "travel_imputed = travel.copy()\n",
    "\n",
    "# Assign the imputations to the missing values in the copy DataFrame\n",
    "travel_imputed.loc[mask, 'DurationOfPitch'] = imputations\n",
    "\n",
    "# Verify the imputed values\n",
    "imputed_values = travel_imputed['DurationOfPitch'].loc[mask]\n",
    "print(\"Imputed values:\")\n",
    "print(imputed_values)\n",
    "\n",
    "# Update the original DataFrame with the imputed values\n",
    "travel['DurationOfPitch'].update(travel_imputed['DurationOfPitch'])"
   ]
  },
  {
   "cell_type": "code",
   "execution_count": 24,
   "id": "79f450ce",
   "metadata": {},
   "outputs": [
    {
     "data": {
      "text/plain": [
       "9.0      512\n",
       "7.0      361\n",
       "8.0      355\n",
       "6.0      326\n",
       "16.0     293\n",
       "15.0     278\n",
       "10.0     262\n",
       "14.0     256\n",
       "13.0     230\n",
       "11.0     217\n",
       "12.0     210\n",
       "17.0     179\n",
       "30.0     103\n",
       "22.0      90\n",
       "31.0      86\n",
       "23.0      85\n",
       "29.0      81\n",
       "26.0      78\n",
       "18.0      77\n",
       "24.0      77\n",
       "32.0      76\n",
       "21.0      76\n",
       "27.0      75\n",
       "25.0      75\n",
       "20.0      69\n",
       "35.0      69\n",
       "28.0      65\n",
       "19.0      62\n",
       "33.0      61\n",
       "34.0      52\n",
       "36.0      44\n",
       "5.0        6\n",
       "126.0      1\n",
       "127.0      1\n",
       "Name: DurationOfPitch, dtype: int64"
      ]
     },
     "execution_count": 24,
     "metadata": {},
     "output_type": "execute_result"
    }
   ],
   "source": [
    "travel['DurationOfPitch'].value_counts()"
   ]
  },
  {
   "cell_type": "markdown",
   "id": "59e5a7dd",
   "metadata": {},
   "source": [
    "### Outliers Detection"
   ]
  },
  {
   "cell_type": "code",
   "execution_count": 25,
   "id": "6084e222",
   "metadata": {
    "scrolled": false
   },
   "outputs": [
    {
     "data": {
      "image/png": "[encoded data removed]",
      "text/plain": [
       "<Figure size 864x1080 with 4 Axes>"
      ]
     },
     "metadata": {
      "needs_background": "light"
     },
     "output_type": "display_data"
    }
   ],
   "source": [
    "outlier_cols = ['DurationOfPitch', 'MonthlyIncome', 'Age']\n",
    "\n",
    "outliers_df = travel[outlier_cols]\n",
    "\n",
    "fig, axes = plt.subplots(nrows=2, ncols=2, figsize=(12,15))\n",
    "axes = axes.flatten()\n",
    "\n",
    "for i, col in enumerate(outlier_cols):\n",
    "    outliers_df.boxplot(column=col, ax=axes[i])\n",
    "    axes[i].set_title(col)\n",
    "\n",
    "for j in range(len(outlier_cols), len(axes)):\n",
    "    axes[j].axis('off')\n",
    "\n",
    "plt.show() "
   ]
  },
  {
   "cell_type": "code",
   "execution_count": 26,
   "id": "a1cf3b7a",
   "metadata": {
    "scrolled": true
   },
   "outputs": [
    {
     "name": "stdout",
     "output_type": "stream",
     "text": [
      "Outliers for DurationOfPitch:\n",
      "1434    126.0\n",
      "3878    127.0\n",
      "Name: DurationOfPitch, dtype: float64\n",
      "Outliers for MonthlyIncome:\n",
      "25      34094.0\n",
      "29      33947.0\n",
      "38      95000.0\n",
      "45      34545.0\n",
      "62      33740.0\n",
      "         ...   \n",
      "4851    35801.0\n",
      "4859    35558.0\n",
      "4868    36539.0\n",
      "4869    37865.0\n",
      "4870    38395.0\n",
      "Name: MonthlyIncome, Length: 375, dtype: float64\n",
      "Outliers for Age:\n",
      "Series([], Name: Age, dtype: float64)\n"
     ]
    }
   ],
   "source": [
    "# Loop through each column and identify and print the outliers.\n",
    "for col in outliers_df.columns:\n",
    "    q1 = outliers_df[col].quantile(0.25)\n",
    "    q3 = outliers_df[col].quantile(0.75)\n",
    "    iqr = q3 - q1\n",
    "    lower_bound = q1 - (1.5 * iqr)\n",
    "    upper_bound = q3 + (1.5 * iqr)\n",
    "    outliers = outliers_df[(outliers_df[col] < lower_bound) | (outliers_df[col] > upper_bound)][col]\n",
    "    print(f\"Outliers for {col}:\")\n",
    "    print(outliers)"
   ]
  },
  {
   "cell_type": "markdown",
   "id": "c360c860",
   "metadata": {},
   "source": [
    "### FIlter Outliers"
   ]
  },
  {
   "cell_type": "code",
   "execution_count": 27,
   "id": "fecf7e84",
   "metadata": {},
   "outputs": [],
   "source": [
    "# Define the threshold values for each column and remove extreme outliers. \n",
    "DurationOfPitch_threshold = 120\n",
    "MonthlyIncome_threshold_above = 80000 \n",
    "MonthlyIncome_threshold_under = 5000\n",
    "\n",
    "\n",
    "# Filter the rows where any of the specified columns have values greater than its threshold value\n",
    "filtered_travel = travel[(travel['DurationOfPitch'] <= DurationOfPitch_threshold) &\n",
    "                         (travel['MonthlyIncome'] <= MonthlyIncome_threshold_above) &\n",
    "                         (travel['MonthlyIncome'] >= MonthlyIncome_threshold_under)].copy()"
   ]
  },
  {
   "cell_type": "code",
   "execution_count": 28,
   "id": "df1cca84",
   "metadata": {},
   "outputs": [
    {
     "data": {
      "text/plain": [
       "(4882, 20)"
      ]
     },
     "execution_count": 28,
     "metadata": {},
     "output_type": "execute_result"
    }
   ],
   "source": [
    "filtered_travel.shape"
   ]
  },
  {
   "cell_type": "markdown",
   "id": "612a651e",
   "metadata": {},
   "source": [
    "After imputing missing values and filtering outliers, we have 4882 data out of 4888."
   ]
  },
  {
   "cell_type": "markdown",
   "id": "aba54b68",
   "metadata": {},
   "source": [
    "## Data Exploration"
   ]
  },
  {
   "cell_type": "markdown",
   "id": "b6fcb68b",
   "metadata": {},
   "source": [
    "### 'target'"
   ]
  },
  {
   "cell_type": "code",
   "execution_count": 29,
   "id": "67d92598",
   "metadata": {},
   "outputs": [
    {
     "data": {
      "text/plain": [
       "0    3962\n",
       "1     920\n",
       "Name: ProdTaken, dtype: int64"
      ]
     },
     "execution_count": 29,
     "metadata": {},
     "output_type": "execute_result"
    }
   ],
   "source": [
    "# Imbalanced data. \n",
    "filtered_travel['ProdTaken'].value_counts()"
   ]
  },
  {
   "cell_type": "code",
   "execution_count": 30,
   "id": "140d693e",
   "metadata": {},
   "outputs": [
    {
     "data": {
      "text/plain": [
       "<AxesSubplot:>"
      ]
     },
     "execution_count": 30,
     "metadata": {},
     "output_type": "execute_result"
    },
    {
     "data": {
      "image/png": "[encoded data removed]",
      "text/plain": [
       "<Figure size 432x288 with 1 Axes>"
      ]
     },
     "metadata": {
      "needs_background": "light"
     },
     "output_type": "display_data"
    }
   ],
   "source": [
    "value_counts = filtered_travel['ProdTaken'].value_counts()\n",
    "sns.barplot(x=value_counts.index, y=value_counts.values, palette=['mediumseagreen', 'green'])"
   ]
  },
  {
   "cell_type": "code",
   "execution_count": 31,
   "id": "b4c5e309",
   "metadata": {
    "scrolled": true
   },
   "outputs": [
    {
     "data": {
      "text/html": [
       "<div>\n",
       "<style scoped>\n",
       "    .dataframe tbody tr th:only-of-type {\n",
       "        vertical-align: middle;\n",
       "    }\n",
       "\n",
       "    .dataframe tbody tr th {\n",
       "        vertical-align: top;\n",
       "    }\n",
       "\n",
       "    .dataframe thead th {\n",
       "        text-align: right;\n",
       "    }\n",
       "</style>\n",
       "<table border=\"1\" class=\"dataframe\">\n",
       "  <thead>\n",
       "    <tr style=\"text-align: right;\">\n",
       "      <th></th>\n",
       "      <th>CustomerID</th>\n",
       "      <th>Age</th>\n",
       "      <th>CityTier</th>\n",
       "      <th>DurationOfPitch</th>\n",
       "      <th>NumberOfPersonVisiting</th>\n",
       "      <th>NumberOfFollowups</th>\n",
       "      <th>PreferredPropertyStar</th>\n",
       "      <th>NumberOfTrips</th>\n",
       "      <th>Passport</th>\n",
       "      <th>PitchSatisfactionScore</th>\n",
       "      <th>OwnCar</th>\n",
       "      <th>NumberOfChildrenVisiting</th>\n",
       "      <th>MonthlyIncome</th>\n",
       "    </tr>\n",
       "    <tr>\n",
       "      <th>ProdTaken</th>\n",
       "      <th></th>\n",
       "      <th></th>\n",
       "      <th></th>\n",
       "      <th></th>\n",
       "      <th></th>\n",
       "      <th></th>\n",
       "      <th></th>\n",
       "      <th></th>\n",
       "      <th></th>\n",
       "      <th></th>\n",
       "      <th></th>\n",
       "      <th></th>\n",
       "      <th></th>\n",
       "    </tr>\n",
       "  </thead>\n",
       "  <tbody>\n",
       "    <tr>\n",
       "      <th>0</th>\n",
       "      <td>202406.084806</td>\n",
       "      <td>38.26628</td>\n",
       "      <td>1.615851</td>\n",
       "      <td>15.09263</td>\n",
       "      <td>2.902322</td>\n",
       "      <td>3.657244</td>\n",
       "      <td>3.540384</td>\n",
       "      <td>3.180212</td>\n",
       "      <td>0.233216</td>\n",
       "      <td>3.044927</td>\n",
       "      <td>0.622918</td>\n",
       "      <td>1.181979</td>\n",
       "      <td>23854.794548</td>\n",
       "    </tr>\n",
       "    <tr>\n",
       "      <th>1</th>\n",
       "      <td>202609.086957</td>\n",
       "      <td>34.92500</td>\n",
       "      <td>1.819565</td>\n",
       "      <td>16.86087</td>\n",
       "      <td>2.919565</td>\n",
       "      <td>3.942391</td>\n",
       "      <td>3.741304</td>\n",
       "      <td>3.291304</td>\n",
       "      <td>0.536957</td>\n",
       "      <td>3.223913</td>\n",
       "      <td>0.608696</td>\n",
       "      <td>1.198913</td>\n",
       "      <td>22178.885870</td>\n",
       "    </tr>\n",
       "  </tbody>\n",
       "</table>\n",
       "</div>"
      ],
      "text/plain": [
       "              CustomerID       Age  CityTier  DurationOfPitch  \\\n",
       "ProdTaken                                                       \n",
       "0          202406.084806  38.26628  1.615851         15.09263   \n",
       "1          202609.086957  34.92500  1.819565         16.86087   \n",
       "\n",
       "           NumberOfPersonVisiting  NumberOfFollowups  PreferredPropertyStar  \\\n",
       "ProdTaken                                                                     \n",
       "0                        2.902322           3.657244               3.540384   \n",
       "1                        2.919565           3.942391               3.741304   \n",
       "\n",
       "           NumberOfTrips  Passport  PitchSatisfactionScore    OwnCar  \\\n",
       "ProdTaken                                                              \n",
       "0               3.180212  0.233216                3.044927  0.622918   \n",
       "1               3.291304  0.536957                3.223913  0.608696   \n",
       "\n",
       "           NumberOfChildrenVisiting  MonthlyIncome  \n",
       "ProdTaken                                           \n",
       "0                          1.181979   23854.794548  \n",
       "1                          1.198913   22178.885870  "
      ]
     },
     "execution_count": 31,
     "metadata": {},
     "output_type": "execute_result"
    }
   ],
   "source": [
    "filtered_travel.groupby('ProdTaken').mean()"
   ]
  },
  {
   "cell_type": "markdown",
   "id": "b9ebfcd6",
   "metadata": {},
   "source": [
    "Observations: \n",
    "\n",
    "The average age of customers who bought the product is lower than that of the customer who did not. Customers who took the product have slightly more follow-ups and duration of pitch on average compared to those who did not take the product. Customers who took the product are more likely to have a passport compared to those who did not take the product."
   ]
  },
  {
   "cell_type": "markdown",
   "id": "41be27aa",
   "metadata": {},
   "source": [
    "### 'TypeofContact'"
   ]
  },
  {
   "cell_type": "code",
   "execution_count": 32,
   "id": "0de22396",
   "metadata": {
    "scrolled": false
   },
   "outputs": [
    {
     "data": {
      "text/html": [
       "<div>\n",
       "<style scoped>\n",
       "    .dataframe tbody tr th:only-of-type {\n",
       "        vertical-align: middle;\n",
       "    }\n",
       "\n",
       "    .dataframe tbody tr th {\n",
       "        vertical-align: top;\n",
       "    }\n",
       "\n",
       "    .dataframe thead th {\n",
       "        text-align: right;\n",
       "    }\n",
       "</style>\n",
       "<table border=\"1\" class=\"dataframe\">\n",
       "  <thead>\n",
       "    <tr style=\"text-align: right;\">\n",
       "      <th></th>\n",
       "      <th>CustomerID</th>\n",
       "      <th>ProdTaken</th>\n",
       "      <th>Age</th>\n",
       "      <th>CityTier</th>\n",
       "      <th>DurationOfPitch</th>\n",
       "      <th>NumberOfPersonVisiting</th>\n",
       "      <th>NumberOfFollowups</th>\n",
       "      <th>PreferredPropertyStar</th>\n",
       "      <th>NumberOfTrips</th>\n",
       "      <th>Passport</th>\n",
       "      <th>PitchSatisfactionScore</th>\n",
       "      <th>OwnCar</th>\n",
       "      <th>NumberOfChildrenVisiting</th>\n",
       "      <th>MonthlyIncome</th>\n",
       "    </tr>\n",
       "    <tr>\n",
       "      <th>TypeofContact</th>\n",
       "      <th></th>\n",
       "      <th></th>\n",
       "      <th></th>\n",
       "      <th></th>\n",
       "      <th></th>\n",
       "      <th></th>\n",
       "      <th></th>\n",
       "      <th></th>\n",
       "      <th></th>\n",
       "      <th></th>\n",
       "      <th></th>\n",
       "      <th></th>\n",
       "      <th></th>\n",
       "      <th></th>\n",
       "    </tr>\n",
       "  </thead>\n",
       "  <tbody>\n",
       "    <tr>\n",
       "      <th>Company Invited</th>\n",
       "      <td>202464.371207</td>\n",
       "      <td>0.218772</td>\n",
       "      <td>37.303458</td>\n",
       "      <td>1.666196</td>\n",
       "      <td>15.691602</td>\n",
       "      <td>2.909668</td>\n",
       "      <td>3.736768</td>\n",
       "      <td>3.539873</td>\n",
       "      <td>3.171489</td>\n",
       "      <td>0.290755</td>\n",
       "      <td>3.119972</td>\n",
       "      <td>0.617502</td>\n",
       "      <td>1.194072</td>\n",
       "      <td>23343.085392</td>\n",
       "    </tr>\n",
       "    <tr>\n",
       "      <th>Self Enquiry</th>\n",
       "      <td>202436.148341</td>\n",
       "      <td>0.176046</td>\n",
       "      <td>37.772872</td>\n",
       "      <td>1.649351</td>\n",
       "      <td>15.317172</td>\n",
       "      <td>2.903896</td>\n",
       "      <td>3.700433</td>\n",
       "      <td>3.593939</td>\n",
       "      <td>3.213276</td>\n",
       "      <td>0.290332</td>\n",
       "      <td>3.061760</td>\n",
       "      <td>0.621356</td>\n",
       "      <td>1.181530</td>\n",
       "      <td>23619.081962</td>\n",
       "    </tr>\n",
       "  </tbody>\n",
       "</table>\n",
       "</div>"
      ],
      "text/plain": [
       "                    CustomerID  ProdTaken        Age  CityTier  \\\n",
       "TypeofContact                                                    \n",
       "Company Invited  202464.371207   0.218772  37.303458  1.666196   \n",
       "Self Enquiry     202436.148341   0.176046  37.772872  1.649351   \n",
       "\n",
       "                 DurationOfPitch  NumberOfPersonVisiting  NumberOfFollowups  \\\n",
       "TypeofContact                                                                 \n",
       "Company Invited        15.691602                2.909668           3.736768   \n",
       "Self Enquiry           15.317172                2.903896           3.700433   \n",
       "\n",
       "                 PreferredPropertyStar  NumberOfTrips  Passport  \\\n",
       "TypeofContact                                                     \n",
       "Company Invited               3.539873       3.171489  0.290755   \n",
       "Self Enquiry                  3.593939       3.213276  0.290332   \n",
       "\n",
       "                 PitchSatisfactionScore    OwnCar  NumberOfChildrenVisiting  \\\n",
       "TypeofContact                                                                 \n",
       "Company Invited                3.119972  0.617502                  1.194072   \n",
       "Self Enquiry                   3.061760  0.621356                  1.181530   \n",
       "\n",
       "                 MonthlyIncome  \n",
       "TypeofContact                   \n",
       "Company Invited   23343.085392  \n",
       "Self Enquiry      23619.081962  "
      ]
     },
     "execution_count": 32,
     "metadata": {},
     "output_type": "execute_result"
    }
   ],
   "source": [
    "filtered_travel.groupby('TypeofContact').mean()"
   ]
  },
  {
   "cell_type": "markdown",
   "id": "e118c23a",
   "metadata": {},
   "source": [
    "### 'Gender'"
   ]
  },
  {
   "cell_type": "code",
   "execution_count": 33,
   "id": "e6e9e0ca",
   "metadata": {
    "scrolled": true
   },
   "outputs": [
    {
     "data": {
      "text/html": [
       "<div>\n",
       "<style scoped>\n",
       "    .dataframe tbody tr th:only-of-type {\n",
       "        vertical-align: middle;\n",
       "    }\n",
       "\n",
       "    .dataframe tbody tr th {\n",
       "        vertical-align: top;\n",
       "    }\n",
       "\n",
       "    .dataframe thead th {\n",
       "        text-align: right;\n",
       "    }\n",
       "</style>\n",
       "<table border=\"1\" class=\"dataframe\">\n",
       "  <thead>\n",
       "    <tr style=\"text-align: right;\">\n",
       "      <th></th>\n",
       "      <th>CustomerID</th>\n",
       "      <th>ProdTaken</th>\n",
       "      <th>Age</th>\n",
       "      <th>CityTier</th>\n",
       "      <th>DurationOfPitch</th>\n",
       "      <th>NumberOfPersonVisiting</th>\n",
       "      <th>NumberOfFollowups</th>\n",
       "      <th>PreferredPropertyStar</th>\n",
       "      <th>NumberOfTrips</th>\n",
       "      <th>Passport</th>\n",
       "      <th>PitchSatisfactionScore</th>\n",
       "      <th>OwnCar</th>\n",
       "      <th>NumberOfChildrenVisiting</th>\n",
       "      <th>MonthlyIncome</th>\n",
       "    </tr>\n",
       "    <tr>\n",
       "      <th>Gender</th>\n",
       "      <th></th>\n",
       "      <th></th>\n",
       "      <th></th>\n",
       "      <th></th>\n",
       "      <th></th>\n",
       "      <th></th>\n",
       "      <th></th>\n",
       "      <th></th>\n",
       "      <th></th>\n",
       "      <th></th>\n",
       "      <th></th>\n",
       "      <th></th>\n",
       "      <th></th>\n",
       "      <th></th>\n",
       "    </tr>\n",
       "  </thead>\n",
       "  <tbody>\n",
       "    <tr>\n",
       "      <th>Female</th>\n",
       "      <td>202446.921748</td>\n",
       "      <td>0.173780</td>\n",
       "      <td>38.064024</td>\n",
       "      <td>1.679878</td>\n",
       "      <td>15.362805</td>\n",
       "      <td>2.913618</td>\n",
       "      <td>3.715447</td>\n",
       "      <td>3.600610</td>\n",
       "      <td>3.214939</td>\n",
       "      <td>0.309959</td>\n",
       "      <td>3.074187</td>\n",
       "      <td>0.630081</td>\n",
       "      <td>1.163110</td>\n",
       "      <td>23720.741362</td>\n",
       "    </tr>\n",
       "    <tr>\n",
       "      <th>Male</th>\n",
       "      <td>202442.596431</td>\n",
       "      <td>0.198353</td>\n",
       "      <td>37.347975</td>\n",
       "      <td>1.636925</td>\n",
       "      <td>15.468428</td>\n",
       "      <td>2.900137</td>\n",
       "      <td>3.707962</td>\n",
       "      <td>3.563143</td>\n",
       "      <td>3.191833</td>\n",
       "      <td>0.277282</td>\n",
       "      <td>3.081675</td>\n",
       "      <td>0.613590</td>\n",
       "      <td>1.200069</td>\n",
       "      <td>23416.215511</td>\n",
       "    </tr>\n",
       "  </tbody>\n",
       "</table>\n",
       "</div>"
      ],
      "text/plain": [
       "           CustomerID  ProdTaken        Age  CityTier  DurationOfPitch  \\\n",
       "Gender                                                                   \n",
       "Female  202446.921748   0.173780  38.064024  1.679878        15.362805   \n",
       "Male    202442.596431   0.198353  37.347975  1.636925        15.468428   \n",
       "\n",
       "        NumberOfPersonVisiting  NumberOfFollowups  PreferredPropertyStar  \\\n",
       "Gender                                                                     \n",
       "Female                2.913618           3.715447               3.600610   \n",
       "Male                  2.900137           3.707962               3.563143   \n",
       "\n",
       "        NumberOfTrips  Passport  PitchSatisfactionScore    OwnCar  \\\n",
       "Gender                                                              \n",
       "Female       3.214939  0.309959                3.074187  0.630081   \n",
       "Male         3.191833  0.277282                3.081675  0.613590   \n",
       "\n",
       "        NumberOfChildrenVisiting  MonthlyIncome  \n",
       "Gender                                           \n",
       "Female                  1.163110   23720.741362  \n",
       "Male                    1.200069   23416.215511  "
      ]
     },
     "execution_count": 33,
     "metadata": {},
     "output_type": "execute_result"
    }
   ],
   "source": [
    "filtered_travel.groupby('Gender').mean()"
   ]
  },
  {
   "cell_type": "markdown",
   "id": "257c0922",
   "metadata": {},
   "source": [
    "### 'ProductPitched'"
   ]
  },
  {
   "cell_type": "code",
   "execution_count": 34,
   "id": "8ab853c5",
   "metadata": {},
   "outputs": [
    {
     "data": {
      "text/html": [
       "<div>\n",
       "<style scoped>\n",
       "    .dataframe tbody tr th:only-of-type {\n",
       "        vertical-align: middle;\n",
       "    }\n",
       "\n",
       "    .dataframe tbody tr th {\n",
       "        vertical-align: top;\n",
       "    }\n",
       "\n",
       "    .dataframe thead th {\n",
       "        text-align: right;\n",
       "    }\n",
       "</style>\n",
       "<table border=\"1\" class=\"dataframe\">\n",
       "  <thead>\n",
       "    <tr style=\"text-align: right;\">\n",
       "      <th></th>\n",
       "      <th>CustomerID</th>\n",
       "      <th>ProdTaken</th>\n",
       "      <th>Age</th>\n",
       "      <th>CityTier</th>\n",
       "      <th>DurationOfPitch</th>\n",
       "      <th>NumberOfPersonVisiting</th>\n",
       "      <th>NumberOfFollowups</th>\n",
       "      <th>PreferredPropertyStar</th>\n",
       "      <th>NumberOfTrips</th>\n",
       "      <th>Passport</th>\n",
       "      <th>PitchSatisfactionScore</th>\n",
       "      <th>OwnCar</th>\n",
       "      <th>NumberOfChildrenVisiting</th>\n",
       "      <th>MonthlyIncome</th>\n",
       "    </tr>\n",
       "    <tr>\n",
       "      <th>ProductPitched</th>\n",
       "      <th></th>\n",
       "      <th></th>\n",
       "      <th></th>\n",
       "      <th></th>\n",
       "      <th></th>\n",
       "      <th></th>\n",
       "      <th></th>\n",
       "      <th></th>\n",
       "      <th></th>\n",
       "      <th></th>\n",
       "      <th></th>\n",
       "      <th></th>\n",
       "      <th></th>\n",
       "      <th></th>\n",
       "    </tr>\n",
       "  </thead>\n",
       "  <tbody>\n",
       "    <tr>\n",
       "      <th>Basic</th>\n",
       "      <td>202468.409140</td>\n",
       "      <td>0.300326</td>\n",
       "      <td>33.424374</td>\n",
       "      <td>1.348205</td>\n",
       "      <td>15.083787</td>\n",
       "      <td>2.930903</td>\n",
       "      <td>3.695321</td>\n",
       "      <td>3.585419</td>\n",
       "      <td>3.094668</td>\n",
       "      <td>0.307943</td>\n",
       "      <td>3.084875</td>\n",
       "      <td>0.587595</td>\n",
       "      <td>1.199674</td>\n",
       "      <td>19969.767682</td>\n",
       "    </tr>\n",
       "    <tr>\n",
       "      <th>Deluxe</th>\n",
       "      <td>202430.166474</td>\n",
       "      <td>0.117919</td>\n",
       "      <td>37.409827</td>\n",
       "      <td>1.929480</td>\n",
       "      <td>15.826012</td>\n",
       "      <td>2.891908</td>\n",
       "      <td>3.707514</td>\n",
       "      <td>3.560694</td>\n",
       "      <td>3.279191</td>\n",
       "      <td>0.276301</td>\n",
       "      <td>3.004624</td>\n",
       "      <td>0.611561</td>\n",
       "      <td>1.178035</td>\n",
       "      <td>22641.058960</td>\n",
       "    </tr>\n",
       "    <tr>\n",
       "      <th>King</th>\n",
       "      <td>202392.356522</td>\n",
       "      <td>0.086957</td>\n",
       "      <td>48.065217</td>\n",
       "      <td>1.443478</td>\n",
       "      <td>12.100000</td>\n",
       "      <td>2.847826</td>\n",
       "      <td>3.804348</td>\n",
       "      <td>3.430435</td>\n",
       "      <td>2.865217</td>\n",
       "      <td>0.260870</td>\n",
       "      <td>3.226087</td>\n",
       "      <td>0.721739</td>\n",
       "      <td>1.326087</td>\n",
       "      <td>35878.947826</td>\n",
       "    </tr>\n",
       "    <tr>\n",
       "      <th>Standard</th>\n",
       "      <td>202430.997305</td>\n",
       "      <td>0.167116</td>\n",
       "      <td>40.578167</td>\n",
       "      <td>1.800539</td>\n",
       "      <td>16.000000</td>\n",
       "      <td>2.920485</td>\n",
       "      <td>3.791105</td>\n",
       "      <td>3.646900</td>\n",
       "      <td>3.315364</td>\n",
       "      <td>0.283019</td>\n",
       "      <td>3.061995</td>\n",
       "      <td>0.652291</td>\n",
       "      <td>1.177898</td>\n",
       "      <td>26637.749326</td>\n",
       "    </tr>\n",
       "    <tr>\n",
       "      <th>Super Deluxe</th>\n",
       "      <td>202450.590643</td>\n",
       "      <td>0.058480</td>\n",
       "      <td>48.026316</td>\n",
       "      <td>1.730994</td>\n",
       "      <td>16.230994</td>\n",
       "      <td>2.845029</td>\n",
       "      <td>3.576023</td>\n",
       "      <td>3.578947</td>\n",
       "      <td>3.356725</td>\n",
       "      <td>0.304094</td>\n",
       "      <td>3.356725</td>\n",
       "      <td>0.701754</td>\n",
       "      <td>1.064327</td>\n",
       "      <td>32241.046784</td>\n",
       "    </tr>\n",
       "  </tbody>\n",
       "</table>\n",
       "</div>"
      ],
      "text/plain": [
       "                   CustomerID  ProdTaken        Age  CityTier  \\\n",
       "ProductPitched                                                  \n",
       "Basic           202468.409140   0.300326  33.424374  1.348205   \n",
       "Deluxe          202430.166474   0.117919  37.409827  1.929480   \n",
       "King            202392.356522   0.086957  48.065217  1.443478   \n",
       "Standard        202430.997305   0.167116  40.578167  1.800539   \n",
       "Super Deluxe    202450.590643   0.058480  48.026316  1.730994   \n",
       "\n",
       "                DurationOfPitch  NumberOfPersonVisiting  NumberOfFollowups  \\\n",
       "ProductPitched                                                               \n",
       "Basic                 15.083787                2.930903           3.695321   \n",
       "Deluxe                15.826012                2.891908           3.707514   \n",
       "King                  12.100000                2.847826           3.804348   \n",
       "Standard              16.000000                2.920485           3.791105   \n",
       "Super Deluxe          16.230994                2.845029           3.576023   \n",
       "\n",
       "                PreferredPropertyStar  NumberOfTrips  Passport  \\\n",
       "ProductPitched                                                   \n",
       "Basic                        3.585419       3.094668  0.307943   \n",
       "Deluxe                       3.560694       3.279191  0.276301   \n",
       "King                         3.430435       2.865217  0.260870   \n",
       "Standard                     3.646900       3.315364  0.283019   \n",
       "Super Deluxe                 3.578947       3.356725  0.304094   \n",
       "\n",
       "                PitchSatisfactionScore    OwnCar  NumberOfChildrenVisiting  \\\n",
       "ProductPitched                                                               \n",
       "Basic                         3.084875  0.587595                  1.199674   \n",
       "Deluxe                        3.004624  0.611561                  1.178035   \n",
       "King                          3.226087  0.721739                  1.326087   \n",
       "Standard                      3.061995  0.652291                  1.177898   \n",
       "Super Deluxe                  3.356725  0.701754                  1.064327   \n",
       "\n",
       "                MonthlyIncome  \n",
       "ProductPitched                 \n",
       "Basic            19969.767682  \n",
       "Deluxe           22641.058960  \n",
       "King             35878.947826  \n",
       "Standard         26637.749326  \n",
       "Super Deluxe     32241.046784  "
      ]
     },
     "execution_count": 34,
     "metadata": {},
     "output_type": "execute_result"
    }
   ],
   "source": [
    "filtered_travel.groupby('ProductPitched').mean()"
   ]
  },
  {
   "cell_type": "markdown",
   "id": "ce9bec96",
   "metadata": {},
   "source": [
    "### 'MaritalStatus'"
   ]
  },
  {
   "cell_type": "code",
   "execution_count": 35,
   "id": "db1088a7",
   "metadata": {},
   "outputs": [
    {
     "data": {
      "text/html": [
       "<div>\n",
       "<style scoped>\n",
       "    .dataframe tbody tr th:only-of-type {\n",
       "        vertical-align: middle;\n",
       "    }\n",
       "\n",
       "    .dataframe tbody tr th {\n",
       "        vertical-align: top;\n",
       "    }\n",
       "\n",
       "    .dataframe thead th {\n",
       "        text-align: right;\n",
       "    }\n",
       "</style>\n",
       "<table border=\"1\" class=\"dataframe\">\n",
       "  <thead>\n",
       "    <tr style=\"text-align: right;\">\n",
       "      <th></th>\n",
       "      <th>CustomerID</th>\n",
       "      <th>ProdTaken</th>\n",
       "      <th>Age</th>\n",
       "      <th>CityTier</th>\n",
       "      <th>DurationOfPitch</th>\n",
       "      <th>NumberOfPersonVisiting</th>\n",
       "      <th>NumberOfFollowups</th>\n",
       "      <th>PreferredPropertyStar</th>\n",
       "      <th>NumberOfTrips</th>\n",
       "      <th>Passport</th>\n",
       "      <th>PitchSatisfactionScore</th>\n",
       "      <th>OwnCar</th>\n",
       "      <th>NumberOfChildrenVisiting</th>\n",
       "      <th>MonthlyIncome</th>\n",
       "    </tr>\n",
       "    <tr>\n",
       "      <th>MaritalStatus</th>\n",
       "      <th></th>\n",
       "      <th></th>\n",
       "      <th></th>\n",
       "      <th></th>\n",
       "      <th></th>\n",
       "      <th></th>\n",
       "      <th></th>\n",
       "      <th></th>\n",
       "      <th></th>\n",
       "      <th></th>\n",
       "      <th></th>\n",
       "      <th></th>\n",
       "      <th></th>\n",
       "      <th></th>\n",
       "    </tr>\n",
       "  </thead>\n",
       "  <tbody>\n",
       "    <tr>\n",
       "      <th>Divorced</th>\n",
       "      <td>201767.405063</td>\n",
       "      <td>0.130802</td>\n",
       "      <td>38.534810</td>\n",
       "      <td>1.679325</td>\n",
       "      <td>15.328059</td>\n",
       "      <td>2.932489</td>\n",
       "      <td>3.677215</td>\n",
       "      <td>3.573840</td>\n",
       "      <td>3.193038</td>\n",
       "      <td>0.289030</td>\n",
       "      <td>3.181435</td>\n",
       "      <td>0.651899</td>\n",
       "      <td>1.156118</td>\n",
       "      <td>23938.578059</td>\n",
       "    </tr>\n",
       "    <tr>\n",
       "      <th>Married</th>\n",
       "      <td>202714.301967</td>\n",
       "      <td>0.139435</td>\n",
       "      <td>38.247220</td>\n",
       "      <td>1.618477</td>\n",
       "      <td>15.581694</td>\n",
       "      <td>2.931138</td>\n",
       "      <td>3.674936</td>\n",
       "      <td>3.592387</td>\n",
       "      <td>3.266895</td>\n",
       "      <td>0.291702</td>\n",
       "      <td>3.045338</td>\n",
       "      <td>0.615056</td>\n",
       "      <td>1.209581</td>\n",
       "      <td>23789.167665</td>\n",
       "    </tr>\n",
       "    <tr>\n",
       "      <th>Single</th>\n",
       "      <td>202020.835886</td>\n",
       "      <td>0.332604</td>\n",
       "      <td>35.961707</td>\n",
       "      <td>1.596280</td>\n",
       "      <td>15.138950</td>\n",
       "      <td>2.671772</td>\n",
       "      <td>3.612691</td>\n",
       "      <td>3.555799</td>\n",
       "      <td>2.919037</td>\n",
       "      <td>0.304158</td>\n",
       "      <td>3.095186</td>\n",
       "      <td>0.597374</td>\n",
       "      <td>0.998906</td>\n",
       "      <td>22285.643326</td>\n",
       "    </tr>\n",
       "    <tr>\n",
       "      <th>Unmarried</th>\n",
       "      <td>203027.398827</td>\n",
       "      <td>0.243402</td>\n",
       "      <td>36.539589</td>\n",
       "      <td>1.819648</td>\n",
       "      <td>15.412023</td>\n",
       "      <td>3.093842</td>\n",
       "      <td>4.013196</td>\n",
       "      <td>3.565982</td>\n",
       "      <td>3.365103</td>\n",
       "      <td>0.269795</td>\n",
       "      <td>3.027859</td>\n",
       "      <td>0.624633</td>\n",
       "      <td>1.391496</td>\n",
       "      <td>23805.494135</td>\n",
       "    </tr>\n",
       "  </tbody>\n",
       "</table>\n",
       "</div>"
      ],
      "text/plain": [
       "                  CustomerID  ProdTaken        Age  CityTier  DurationOfPitch  \\\n",
       "MaritalStatus                                                                   \n",
       "Divorced       201767.405063   0.130802  38.534810  1.679325        15.328059   \n",
       "Married        202714.301967   0.139435  38.247220  1.618477        15.581694   \n",
       "Single         202020.835886   0.332604  35.961707  1.596280        15.138950   \n",
       "Unmarried      203027.398827   0.243402  36.539589  1.819648        15.412023   \n",
       "\n",
       "               NumberOfPersonVisiting  NumberOfFollowups  \\\n",
       "MaritalStatus                                              \n",
       "Divorced                     2.932489           3.677215   \n",
       "Married                      2.931138           3.674936   \n",
       "Single                       2.671772           3.612691   \n",
       "Unmarried                    3.093842           4.013196   \n",
       "\n",
       "               PreferredPropertyStar  NumberOfTrips  Passport  \\\n",
       "MaritalStatus                                                   \n",
       "Divorced                    3.573840       3.193038  0.289030   \n",
       "Married                     3.592387       3.266895  0.291702   \n",
       "Single                      3.555799       2.919037  0.304158   \n",
       "Unmarried                   3.565982       3.365103  0.269795   \n",
       "\n",
       "               PitchSatisfactionScore    OwnCar  NumberOfChildrenVisiting  \\\n",
       "MaritalStatus                                                               \n",
       "Divorced                     3.181435  0.651899                  1.156118   \n",
       "Married                      3.045338  0.615056                  1.209581   \n",
       "Single                       3.095186  0.597374                  0.998906   \n",
       "Unmarried                    3.027859  0.624633                  1.391496   \n",
       "\n",
       "               MonthlyIncome  \n",
       "MaritalStatus                 \n",
       "Divorced        23938.578059  \n",
       "Married         23789.167665  \n",
       "Single          22285.643326  \n",
       "Unmarried       23805.494135  "
      ]
     },
     "execution_count": 35,
     "metadata": {},
     "output_type": "execute_result"
    }
   ],
   "source": [
    "filtered_travel.groupby('MaritalStatus').mean()"
   ]
  },
  {
   "cell_type": "markdown",
   "id": "c86c23c1",
   "metadata": {},
   "source": [
    "### 'Designation'"
   ]
  },
  {
   "cell_type": "code",
   "execution_count": 36,
   "id": "89f2028b",
   "metadata": {},
   "outputs": [
    {
     "data": {
      "text/html": [
       "<div>\n",
       "<style scoped>\n",
       "    .dataframe tbody tr th:only-of-type {\n",
       "        vertical-align: middle;\n",
       "    }\n",
       "\n",
       "    .dataframe tbody tr th {\n",
       "        vertical-align: top;\n",
       "    }\n",
       "\n",
       "    .dataframe thead th {\n",
       "        text-align: right;\n",
       "    }\n",
       "</style>\n",
       "<table border=\"1\" class=\"dataframe\">\n",
       "  <thead>\n",
       "    <tr style=\"text-align: right;\">\n",
       "      <th></th>\n",
       "      <th>CustomerID</th>\n",
       "      <th>ProdTaken</th>\n",
       "      <th>Age</th>\n",
       "      <th>CityTier</th>\n",
       "      <th>DurationOfPitch</th>\n",
       "      <th>NumberOfPersonVisiting</th>\n",
       "      <th>NumberOfFollowups</th>\n",
       "      <th>PreferredPropertyStar</th>\n",
       "      <th>NumberOfTrips</th>\n",
       "      <th>Passport</th>\n",
       "      <th>PitchSatisfactionScore</th>\n",
       "      <th>OwnCar</th>\n",
       "      <th>NumberOfChildrenVisiting</th>\n",
       "      <th>MonthlyIncome</th>\n",
       "    </tr>\n",
       "    <tr>\n",
       "      <th>Designation</th>\n",
       "      <th></th>\n",
       "      <th></th>\n",
       "      <th></th>\n",
       "      <th></th>\n",
       "      <th></th>\n",
       "      <th></th>\n",
       "      <th></th>\n",
       "      <th></th>\n",
       "      <th></th>\n",
       "      <th></th>\n",
       "      <th></th>\n",
       "      <th></th>\n",
       "      <th></th>\n",
       "      <th></th>\n",
       "    </tr>\n",
       "  </thead>\n",
       "  <tbody>\n",
       "    <tr>\n",
       "      <th>AVP</th>\n",
       "      <td>202450.590643</td>\n",
       "      <td>0.058480</td>\n",
       "      <td>48.026316</td>\n",
       "      <td>1.730994</td>\n",
       "      <td>16.230994</td>\n",
       "      <td>2.845029</td>\n",
       "      <td>3.576023</td>\n",
       "      <td>3.578947</td>\n",
       "      <td>3.356725</td>\n",
       "      <td>0.304094</td>\n",
       "      <td>3.356725</td>\n",
       "      <td>0.701754</td>\n",
       "      <td>1.064327</td>\n",
       "      <td>32241.046784</td>\n",
       "    </tr>\n",
       "    <tr>\n",
       "      <th>Executive</th>\n",
       "      <td>202468.409140</td>\n",
       "      <td>0.300326</td>\n",
       "      <td>33.424374</td>\n",
       "      <td>1.348205</td>\n",
       "      <td>15.083787</td>\n",
       "      <td>2.930903</td>\n",
       "      <td>3.695321</td>\n",
       "      <td>3.585419</td>\n",
       "      <td>3.094668</td>\n",
       "      <td>0.307943</td>\n",
       "      <td>3.084875</td>\n",
       "      <td>0.587595</td>\n",
       "      <td>1.199674</td>\n",
       "      <td>19969.767682</td>\n",
       "    </tr>\n",
       "    <tr>\n",
       "      <th>Manager</th>\n",
       "      <td>202430.166474</td>\n",
       "      <td>0.117919</td>\n",
       "      <td>37.409827</td>\n",
       "      <td>1.929480</td>\n",
       "      <td>15.826012</td>\n",
       "      <td>2.891908</td>\n",
       "      <td>3.707514</td>\n",
       "      <td>3.560694</td>\n",
       "      <td>3.279191</td>\n",
       "      <td>0.276301</td>\n",
       "      <td>3.004624</td>\n",
       "      <td>0.611561</td>\n",
       "      <td>1.178035</td>\n",
       "      <td>22641.058960</td>\n",
       "    </tr>\n",
       "    <tr>\n",
       "      <th>Senior Manager</th>\n",
       "      <td>202430.997305</td>\n",
       "      <td>0.167116</td>\n",
       "      <td>40.578167</td>\n",
       "      <td>1.800539</td>\n",
       "      <td>16.000000</td>\n",
       "      <td>2.920485</td>\n",
       "      <td>3.791105</td>\n",
       "      <td>3.646900</td>\n",
       "      <td>3.315364</td>\n",
       "      <td>0.283019</td>\n",
       "      <td>3.061995</td>\n",
       "      <td>0.652291</td>\n",
       "      <td>1.177898</td>\n",
       "      <td>26637.749326</td>\n",
       "    </tr>\n",
       "    <tr>\n",
       "      <th>VP</th>\n",
       "      <td>202392.356522</td>\n",
       "      <td>0.086957</td>\n",
       "      <td>48.065217</td>\n",
       "      <td>1.443478</td>\n",
       "      <td>12.100000</td>\n",
       "      <td>2.847826</td>\n",
       "      <td>3.804348</td>\n",
       "      <td>3.430435</td>\n",
       "      <td>2.865217</td>\n",
       "      <td>0.260870</td>\n",
       "      <td>3.226087</td>\n",
       "      <td>0.721739</td>\n",
       "      <td>1.326087</td>\n",
       "      <td>35878.947826</td>\n",
       "    </tr>\n",
       "  </tbody>\n",
       "</table>\n",
       "</div>"
      ],
      "text/plain": [
       "                   CustomerID  ProdTaken        Age  CityTier  \\\n",
       "Designation                                                     \n",
       "AVP             202450.590643   0.058480  48.026316  1.730994   \n",
       "Executive       202468.409140   0.300326  33.424374  1.348205   \n",
       "Manager         202430.166474   0.117919  37.409827  1.929480   \n",
       "Senior Manager  202430.997305   0.167116  40.578167  1.800539   \n",
       "VP              202392.356522   0.086957  48.065217  1.443478   \n",
       "\n",
       "                DurationOfPitch  NumberOfPersonVisiting  NumberOfFollowups  \\\n",
       "Designation                                                                  \n",
       "AVP                   16.230994                2.845029           3.576023   \n",
       "Executive             15.083787                2.930903           3.695321   \n",
       "Manager               15.826012                2.891908           3.707514   \n",
       "Senior Manager        16.000000                2.920485           3.791105   \n",
       "VP                    12.100000                2.847826           3.804348   \n",
       "\n",
       "                PreferredPropertyStar  NumberOfTrips  Passport  \\\n",
       "Designation                                                      \n",
       "AVP                          3.578947       3.356725  0.304094   \n",
       "Executive                    3.585419       3.094668  0.307943   \n",
       "Manager                      3.560694       3.279191  0.276301   \n",
       "Senior Manager               3.646900       3.315364  0.283019   \n",
       "VP                           3.430435       2.865217  0.260870   \n",
       "\n",
       "                PitchSatisfactionScore    OwnCar  NumberOfChildrenVisiting  \\\n",
       "Designation                                                                  \n",
       "AVP                           3.356725  0.701754                  1.064327   \n",
       "Executive                     3.084875  0.587595                  1.199674   \n",
       "Manager                       3.004624  0.611561                  1.178035   \n",
       "Senior Manager                3.061995  0.652291                  1.177898   \n",
       "VP                            3.226087  0.721739                  1.326087   \n",
       "\n",
       "                MonthlyIncome  \n",
       "Designation                    \n",
       "AVP              32241.046784  \n",
       "Executive        19969.767682  \n",
       "Manager          22641.058960  \n",
       "Senior Manager   26637.749326  \n",
       "VP               35878.947826  "
      ]
     },
     "execution_count": 36,
     "metadata": {},
     "output_type": "execute_result"
    }
   ],
   "source": [
    "filtered_travel.groupby('Designation').mean()"
   ]
  },
  {
   "cell_type": "markdown",
   "id": "e04c0934",
   "metadata": {},
   "source": [
    "### 'Occupation'"
   ]
  },
  {
   "cell_type": "code",
   "execution_count": 37,
   "id": "45b35a1b",
   "metadata": {},
   "outputs": [
    {
     "data": {
      "text/html": [
       "<div>\n",
       "<style scoped>\n",
       "    .dataframe tbody tr th:only-of-type {\n",
       "        vertical-align: middle;\n",
       "    }\n",
       "\n",
       "    .dataframe tbody tr th {\n",
       "        vertical-align: top;\n",
       "    }\n",
       "\n",
       "    .dataframe thead th {\n",
       "        text-align: right;\n",
       "    }\n",
       "</style>\n",
       "<table border=\"1\" class=\"dataframe\">\n",
       "  <thead>\n",
       "    <tr style=\"text-align: right;\">\n",
       "      <th></th>\n",
       "      <th>CustomerID</th>\n",
       "      <th>ProdTaken</th>\n",
       "      <th>Age</th>\n",
       "      <th>CityTier</th>\n",
       "      <th>DurationOfPitch</th>\n",
       "      <th>NumberOfPersonVisiting</th>\n",
       "      <th>NumberOfFollowups</th>\n",
       "      <th>PreferredPropertyStar</th>\n",
       "      <th>NumberOfTrips</th>\n",
       "      <th>Passport</th>\n",
       "      <th>PitchSatisfactionScore</th>\n",
       "      <th>OwnCar</th>\n",
       "      <th>NumberOfChildrenVisiting</th>\n",
       "      <th>MonthlyIncome</th>\n",
       "    </tr>\n",
       "    <tr>\n",
       "      <th>Occupation</th>\n",
       "      <th></th>\n",
       "      <th></th>\n",
       "      <th></th>\n",
       "      <th></th>\n",
       "      <th></th>\n",
       "      <th></th>\n",
       "      <th></th>\n",
       "      <th></th>\n",
       "      <th></th>\n",
       "      <th></th>\n",
       "      <th></th>\n",
       "      <th></th>\n",
       "      <th></th>\n",
       "      <th></th>\n",
       "    </tr>\n",
       "  </thead>\n",
       "  <tbody>\n",
       "    <tr>\n",
       "      <th>Free Lancer</th>\n",
       "      <td>201224.000000</td>\n",
       "      <td>1.000000</td>\n",
       "      <td>37.500000</td>\n",
       "      <td>1.000000</td>\n",
       "      <td>8.500000</td>\n",
       "      <td>3.500000</td>\n",
       "      <td>4.500000</td>\n",
       "      <td>3.000000</td>\n",
       "      <td>7.500000</td>\n",
       "      <td>1.000000</td>\n",
       "      <td>3.000000</td>\n",
       "      <td>0.000000</td>\n",
       "      <td>0.500000</td>\n",
       "      <td>18929.000000</td>\n",
       "    </tr>\n",
       "    <tr>\n",
       "      <th>Large Business</th>\n",
       "      <td>202448.203704</td>\n",
       "      <td>0.277778</td>\n",
       "      <td>36.692130</td>\n",
       "      <td>1.592593</td>\n",
       "      <td>14.696759</td>\n",
       "      <td>2.879630</td>\n",
       "      <td>3.759259</td>\n",
       "      <td>3.597222</td>\n",
       "      <td>3.444444</td>\n",
       "      <td>0.282407</td>\n",
       "      <td>3.240741</td>\n",
       "      <td>0.652778</td>\n",
       "      <td>1.192130</td>\n",
       "      <td>22952.562500</td>\n",
       "    </tr>\n",
       "    <tr>\n",
       "      <th>Salaried</th>\n",
       "      <td>202448.895939</td>\n",
       "      <td>0.175127</td>\n",
       "      <td>37.660321</td>\n",
       "      <td>1.520305</td>\n",
       "      <td>15.132826</td>\n",
       "      <td>2.911168</td>\n",
       "      <td>3.711929</td>\n",
       "      <td>3.548223</td>\n",
       "      <td>3.186125</td>\n",
       "      <td>0.288494</td>\n",
       "      <td>3.115059</td>\n",
       "      <td>0.633672</td>\n",
       "      <td>1.181049</td>\n",
       "      <td>23532.737733</td>\n",
       "    </tr>\n",
       "    <tr>\n",
       "      <th>Small Business</th>\n",
       "      <td>202439.542226</td>\n",
       "      <td>0.184261</td>\n",
       "      <td>37.805662</td>\n",
       "      <td>1.819578</td>\n",
       "      <td>15.916027</td>\n",
       "      <td>2.904031</td>\n",
       "      <td>3.699136</td>\n",
       "      <td>3.608925</td>\n",
       "      <td>3.163628</td>\n",
       "      <td>0.293666</td>\n",
       "      <td>3.003839</td>\n",
       "      <td>0.598848</td>\n",
       "      <td>1.189060</td>\n",
       "      <td>23672.031670</td>\n",
       "    </tr>\n",
       "  </tbody>\n",
       "</table>\n",
       "</div>"
      ],
      "text/plain": [
       "                   CustomerID  ProdTaken        Age  CityTier  \\\n",
       "Occupation                                                      \n",
       "Free Lancer     201224.000000   1.000000  37.500000  1.000000   \n",
       "Large Business  202448.203704   0.277778  36.692130  1.592593   \n",
       "Salaried        202448.895939   0.175127  37.660321  1.520305   \n",
       "Small Business  202439.542226   0.184261  37.805662  1.819578   \n",
       "\n",
       "                DurationOfPitch  NumberOfPersonVisiting  NumberOfFollowups  \\\n",
       "Occupation                                                                   \n",
       "Free Lancer            8.500000                3.500000           4.500000   \n",
       "Large Business        14.696759                2.879630           3.759259   \n",
       "Salaried              15.132826                2.911168           3.711929   \n",
       "Small Business        15.916027                2.904031           3.699136   \n",
       "\n",
       "                PreferredPropertyStar  NumberOfTrips  Passport  \\\n",
       "Occupation                                                       \n",
       "Free Lancer                  3.000000       7.500000  1.000000   \n",
       "Large Business               3.597222       3.444444  0.282407   \n",
       "Salaried                     3.548223       3.186125  0.288494   \n",
       "Small Business               3.608925       3.163628  0.293666   \n",
       "\n",
       "                PitchSatisfactionScore    OwnCar  NumberOfChildrenVisiting  \\\n",
       "Occupation                                                                   \n",
       "Free Lancer                   3.000000  0.000000                  0.500000   \n",
       "Large Business                3.240741  0.652778                  1.192130   \n",
       "Salaried                      3.115059  0.633672                  1.181049   \n",
       "Small Business                3.003839  0.598848                  1.189060   \n",
       "\n",
       "                MonthlyIncome  \n",
       "Occupation                     \n",
       "Free Lancer      18929.000000  \n",
       "Large Business   22952.562500  \n",
       "Salaried         23532.737733  \n",
       "Small Business   23672.031670  "
      ]
     },
     "execution_count": 37,
     "metadata": {},
     "output_type": "execute_result"
    }
   ],
   "source": [
    "filtered_travel.groupby('Occupation').mean()"
   ]
  },
  {
   "cell_type": "markdown",
   "id": "71264d9c",
   "metadata": {},
   "source": [
    "### 'TypeofContact'"
   ]
  },
  {
   "cell_type": "code",
   "execution_count": 38,
   "id": "e1627024",
   "metadata": {},
   "outputs": [
    {
     "data": {
      "text/plain": [
       "<AxesSubplot:xlabel='TypeofContact'>"
      ]
     },
     "execution_count": 38,
     "metadata": {},
     "output_type": "execute_result"
    },
    {
     "data": {
      "image/png": "[encoded data removed]",
      "text/plain": [
       "<Figure size 432x288 with 1 Axes>"
      ]
     },
     "metadata": {
      "needs_background": "light"
     },
     "output_type": "display_data"
    }
   ],
   "source": [
    "%matplotlib inline\n",
    "pd.crosstab(filtered_travel.TypeofContact,filtered_travel.ProdTaken).plot(kind='bar', color=['mediumseagreen', 'g'])"
   ]
  },
  {
   "cell_type": "markdown",
   "id": "b4b2f96f",
   "metadata": {},
   "source": [
    "TypeofContact seems a good predictor of the outcome variable."
   ]
  },
  {
   "cell_type": "markdown",
   "id": "a30bf287",
   "metadata": {},
   "source": [
    "### 'MaritalStatus'"
   ]
  },
  {
   "cell_type": "code",
   "execution_count": 39,
   "id": "fedca281",
   "metadata": {},
   "outputs": [
    {
     "data": {
      "text/plain": [
       "<AxesSubplot:xlabel='MaritalStatus'>"
      ]
     },
     "execution_count": 39,
     "metadata": {},
     "output_type": "execute_result"
    },
    {
     "data": {
      "image/png": "[encoded data removed]",
      "text/plain": [
       "<Figure size 432x288 with 1 Axes>"
      ]
     },
     "metadata": {
      "needs_background": "light"
     },
     "output_type": "display_data"
    }
   ],
   "source": [
    "table=pd.crosstab(filtered_travel.MaritalStatus, filtered_travel.ProdTaken)\n",
    "table.div(table.sum(1).astype(float), axis=0).plot(kind='bar', color=['mediumseagreen', 'green'], stacked=True)"
   ]
  },
  {
   "cell_type": "markdown",
   "id": "26e7d799",
   "metadata": {},
   "source": [
    "MaritalStatus does not seem a strong predictor."
   ]
  },
  {
   "cell_type": "markdown",
   "id": "3d7a618f",
   "metadata": {},
   "source": [
    "### 'Gender'"
   ]
  },
  {
   "cell_type": "code",
   "execution_count": 40,
   "id": "d9779678",
   "metadata": {},
   "outputs": [
    {
     "data": {
      "text/plain": [
       "<AxesSubplot:xlabel='Gender'>"
      ]
     },
     "execution_count": 40,
     "metadata": {},
     "output_type": "execute_result"
    },
    {
     "data": {
      "image/png": "[encoded data removed]",
      "text/plain": [
       "<Figure size 432x288 with 1 Axes>"
      ]
     },
     "metadata": {
      "needs_background": "light"
     },
     "output_type": "display_data"
    }
   ],
   "source": [
    "table = pd.crosstab(filtered_travel.Gender, filtered_travel.ProdTaken)\n",
    "table.div(table.sum(1).astype(float), axis=0).plot(kind='bar', color=['mediumseagreen', 'green'], stacked=True)"
   ]
  },
  {
   "cell_type": "markdown",
   "id": "bfa836eb",
   "metadata": {},
   "source": [
    "Hard to see, but gender might not be a good predictor for outcome variable."
   ]
  },
  {
   "cell_type": "markdown",
   "id": "36cd67a9",
   "metadata": {},
   "source": [
    "### 'ProductPitched'"
   ]
  },
  {
   "cell_type": "code",
   "execution_count": 41,
   "id": "8efccd02",
   "metadata": {
    "scrolled": false
   },
   "outputs": [
    {
     "data": {
      "text/plain": [
       "<AxesSubplot:xlabel='ProductPitched'>"
      ]
     },
     "execution_count": 41,
     "metadata": {},
     "output_type": "execute_result"
    },
    {
     "data": {
      "image/png": "[encoded data removed]",
      "text/plain": [
       "<Figure size 432x288 with 1 Axes>"
      ]
     },
     "metadata": {
      "needs_background": "light"
     },
     "output_type": "display_data"
    }
   ],
   "source": [
    "%matplotlib inline\n",
    "pd.crosstab(filtered_travel.ProductPitched, filtered_travel.ProdTaken).plot(kind='bar', color=['mediumseagreen', 'green'])"
   ]
  },
  {
   "cell_type": "markdown",
   "id": "12941498",
   "metadata": {},
   "source": [
    "ProductPitched seems a good predictor of the outcome variable."
   ]
  },
  {
   "cell_type": "markdown",
   "id": "f0df8883",
   "metadata": {},
   "source": [
    "### 'Designation'"
   ]
  },
  {
   "cell_type": "code",
   "execution_count": 42,
   "id": "2240b8d1",
   "metadata": {
    "scrolled": false
   },
   "outputs": [
    {
     "data": {
      "text/plain": [
       "<AxesSubplot:xlabel='Designation'>"
      ]
     },
     "execution_count": 42,
     "metadata": {},
     "output_type": "execute_result"
    },
    {
     "data": {
      "image/png": "[encoded data removed]",
      "text/plain": [
       "<Figure size 432x288 with 1 Axes>"
      ]
     },
     "metadata": {
      "needs_background": "light"
     },
     "output_type": "display_data"
    }
   ],
   "source": [
    "%matplotlib inline\n",
    "pd.crosstab(filtered_travel.Designation, filtered_travel.ProdTaken).plot(kind='bar', color=['mediumseagreen', 'green'])"
   ]
  },
  {
   "cell_type": "markdown",
   "id": "c3a73f6e",
   "metadata": {},
   "source": [
    "Designation seems like a strong predictor for outcome variable."
   ]
  },
  {
   "cell_type": "markdown",
   "id": "51090ba7",
   "metadata": {},
   "source": [
    "### 'Occupation'"
   ]
  },
  {
   "cell_type": "code",
   "execution_count": 43,
   "id": "7473ef8b",
   "metadata": {},
   "outputs": [
    {
     "data": {
      "text/plain": [
       "<AxesSubplot:xlabel='Occupation'>"
      ]
     },
     "execution_count": 43,
     "metadata": {},
     "output_type": "execute_result"
    },
    {
     "data": {
      "image/png": "[encoded data removed]",
      "text/plain": [
       "<Figure size 432x288 with 1 Axes>"
      ]
     },
     "metadata": {
      "needs_background": "light"
     },
     "output_type": "display_data"
    }
   ],
   "source": [
    "%matplotlib inline\n",
    "pd.crosstab(filtered_travel.Occupation, filtered_travel.ProdTaken).plot(kind='bar', color=['mediumseagreen', 'green'])"
   ]
  },
  {
   "cell_type": "markdown",
   "id": "9f55832b",
   "metadata": {},
   "source": [
    "Occupation seems like a strong predictor for outcome variable."
   ]
  },
  {
   "cell_type": "code",
   "execution_count": 44,
   "id": "a725f414",
   "metadata": {},
   "outputs": [
    {
     "data": {
      "image/png": "[encoded data removed]",
      "text/plain": [
       "<Figure size 864x576 with 2 Axes>"
      ]
     },
     "metadata": {
      "needs_background": "light"
     },
     "output_type": "display_data"
    }
   ],
   "source": [
    "corr(filtered_travel, columns=['Age', 'MonthlyIncome', 'DurationOfPitch', 'CityTier', 'NumberOfPersonVisiting', 'NumberOfFollowups', 'PreferredPropertyStar', 'NumberOfTrips', 'Passport', 'PitchSatisfactionScore', 'OwnCar', 'NumberOfChildrenVisiting'])"
   ]
  },
  {
   "cell_type": "markdown",
   "id": "ff5aa90e",
   "metadata": {},
   "source": [
    "### Encoding Categorical Values"
   ]
  },
  {
   "cell_type": "code",
   "execution_count": 45,
   "id": "cc373964",
   "metadata": {},
   "outputs": [],
   "source": [
    "encoder = ce.OrdinalEncoder(cols=['TypeofContact', 'Occupation', 'Gender', 'ProductPitched', 'MaritalStatus', 'Designation'])\n",
    "filtered_travel = encoder.fit_transform(filtered_travel)"
   ]
  },
  {
   "cell_type": "markdown",
   "id": "33a196ef",
   "metadata": {},
   "source": [
    "## Modeling - Random Forest"
   ]
  },
  {
   "cell_type": "markdown",
   "id": "44291600",
   "metadata": {},
   "source": [
    "### Putting Feature Variable to X and Target variable to y."
   ]
  },
  {
   "cell_type": "code",
   "execution_count": 46,
   "id": "033b5f29",
   "metadata": {},
   "outputs": [],
   "source": [
    "# Putting feature variable to X. \n",
    "X = filtered_travel.drop(['CustomerID', 'ProdTaken'], axis=1) \n",
    "\n",
    "# Putting target variable to y. \n",
    "y = filtered_travel['ProdTaken']"
   ]
  },
  {
   "cell_type": "markdown",
   "id": "52cba17f",
   "metadata": {},
   "source": [
    "### Split the data"
   ]
  },
  {
   "cell_type": "code",
   "execution_count": 47,
   "id": "9af9c674",
   "metadata": {},
   "outputs": [
    {
     "data": {
      "text/plain": [
       "0.9201637666325486"
      ]
     },
     "execution_count": 47,
     "metadata": {},
     "output_type": "execute_result"
    }
   ],
   "source": [
    "# Split the data into train and test\n",
    "X_train, X_test, y_train, y_test = train_test_split(X, y, train_size=0.8, random_state=42)\n",
    "\n",
    "# Create a Random Forest classifier with class weights\n",
    "rf = RandomForestClassifier(random_state=42)\n",
    "\n",
    "# Fit the classifier on the training data\n",
    "rf.fit(X_train, y_train)\n",
    "\n",
    "# Evaluate the model on the testing data\n",
    "accuracy = rf.score(X_test, y_test)\n",
    "accuracy"
   ]
  },
  {
   "cell_type": "markdown",
   "id": "a888e24f",
   "metadata": {},
   "source": [
    "## Evaluation"
   ]
  },
  {
   "cell_type": "code",
   "execution_count": 48,
   "id": "b833f130",
   "metadata": {},
   "outputs": [
    {
     "name": "stdout",
     "output_type": "stream",
     "text": [
      "Execution time: 0.33594393730163574 seconds\n"
     ]
    },
    {
     "data": {
      "text/plain": [
       "0.9211267605633803"
      ]
     },
     "execution_count": 48,
     "metadata": {},
     "output_type": "execute_result"
    }
   ],
   "source": [
    "start_time = time.time()\n",
    "\n",
    "classifier_rf = RandomForestClassifier(random_state=42, oob_score=True)\n",
    "\n",
    "classifier_rf.fit(X_train, y_train)\n",
    "\n",
    "end_time = time.time()\n",
    "execution_time = end_time - start_time\n",
    "print(\"Execution time:\", execution_time, \"seconds\") \n",
    "\n",
    "# Checking the oob_score \n",
    "classifier_rf.oob_score_"
   ]
  },
  {
   "cell_type": "code",
   "execution_count": 49,
   "id": "7a206669",
   "metadata": {},
   "outputs": [],
   "source": [
    "# Fit the model on the training data\n",
    "rf.fit(X_train, y_train)\n",
    "\n",
    "# Predict on the test data\n",
    "y_pred = rf.predict(X_test)\n",
    "\n",
    "# Predict probabilities on the test data\n",
    "y_pred_test_proba = rf.predict_proba(X_test)[:, 1]"
   ]
  },
  {
   "cell_type": "markdown",
   "id": "f1406ea1",
   "metadata": {},
   "source": [
    "### Area Under the ROC Curve"
   ]
  },
  {
   "cell_type": "code",
   "execution_count": 50,
   "id": "e5d3bbad",
   "metadata": {},
   "outputs": [
    {
     "data": {
      "image/png": "[encoded data removed]",
      "text/plain": [
       "<Figure size 432x288 with 1 Axes>"
      ]
     },
     "metadata": {
      "needs_background": "light"
     },
     "output_type": "display_data"
    }
   ],
   "source": [
    "# Call the auc_plot function\n",
    "auc_plot(y_test, y_pred_test_proba)"
   ]
  },
  {
   "cell_type": "markdown",
   "id": "40803a25",
   "metadata": {},
   "source": [
    "### Classification Report"
   ]
  },
  {
   "cell_type": "code",
   "execution_count": 51,
   "id": "b6d7b1a5",
   "metadata": {},
   "outputs": [
    {
     "name": "stdout",
     "output_type": "stream",
     "text": [
      "              precision    recall  f1-score   support\n",
      "\n",
      "           0       0.92      0.99      0.95       794\n",
      "           1       0.91      0.63      0.75       183\n",
      "\n",
      "    accuracy                           0.92       977\n",
      "   macro avg       0.92      0.81      0.85       977\n",
      "weighted avg       0.92      0.92      0.91       977\n",
      "\n"
     ]
    }
   ],
   "source": [
    "# Calculate and print the classification report\n",
    "classification_rep = classification_report(y_test, y_pred)\n",
    "print(classification_rep)"
   ]
  },
  {
   "cell_type": "markdown",
   "id": "11dcfff1",
   "metadata": {},
   "source": [
    "### Confusion Matrix"
   ]
  },
  {
   "cell_type": "code",
   "execution_count": 52,
   "id": "f54848cb",
   "metadata": {},
   "outputs": [
    {
     "data": {
      "image/png": "[encoded data removed]",
      "text/plain": [
       "<Figure size 432x288 with 2 Axes>"
      ]
     },
     "metadata": {
      "needs_background": "light"
     },
     "output_type": "display_data"
    }
   ],
   "source": [
    "y_pred = rf.predict(X_test)\n",
    "\n",
    "# Create the confusion matrix\n",
    "cm = confusion_matrix(y_test, y_pred)\n",
    "\n",
    "ConfusionMatrixDisplay(confusion_matrix=cm).plot();"
   ]
  },
  {
   "cell_type": "markdown",
   "id": "090dc9df",
   "metadata": {},
   "source": [
    "### Feature Importances"
   ]
  },
  {
   "cell_type": "code",
   "execution_count": 53,
   "id": "818facc0",
   "metadata": {},
   "outputs": [
    {
     "data": {
      "image/png": "[encoded data removed]",
      "text/plain": [
       "<Figure size 432x288 with 1 Axes>"
      ]
     },
     "metadata": {
      "needs_background": "light"
     },
     "output_type": "display_data"
    }
   ],
   "source": [
    "# Call the plot_feature_importances function\n",
    "plot_feature_importances(rf, X.columns)"
   ]
  },
  {
   "cell_type": "code",
   "execution_count": 54,
   "id": "5a1b61af",
   "metadata": {},
   "outputs": [
    {
     "data": {
      "text/html": [
       "<div>\n",
       "<style scoped>\n",
       "    .dataframe tbody tr th:only-of-type {\n",
       "        vertical-align: middle;\n",
       "    }\n",
       "\n",
       "    .dataframe tbody tr th {\n",
       "        vertical-align: top;\n",
       "    }\n",
       "\n",
       "    .dataframe thead th {\n",
       "        text-align: right;\n",
       "    }\n",
       "</style>\n",
       "<table border=\"1\" class=\"dataframe\">\n",
       "  <thead>\n",
       "    <tr style=\"text-align: right;\">\n",
       "      <th></th>\n",
       "      <th>Column</th>\n",
       "      <th>Importance</th>\n",
       "    </tr>\n",
       "  </thead>\n",
       "  <tbody>\n",
       "    <tr>\n",
       "      <th>17</th>\n",
       "      <td>MonthlyIncome</td>\n",
       "      <td>0.137757</td>\n",
       "    </tr>\n",
       "    <tr>\n",
       "      <th>0</th>\n",
       "      <td>Age</td>\n",
       "      <td>0.133429</td>\n",
       "    </tr>\n",
       "    <tr>\n",
       "      <th>3</th>\n",
       "      <td>DurationOfPitch</td>\n",
       "      <td>0.105848</td>\n",
       "    </tr>\n",
       "    <tr>\n",
       "      <th>12</th>\n",
       "      <td>Passport</td>\n",
       "      <td>0.077495</td>\n",
       "    </tr>\n",
       "    <tr>\n",
       "      <th>11</th>\n",
       "      <td>NumberOfTrips</td>\n",
       "      <td>0.066254</td>\n",
       "    </tr>\n",
       "    <tr>\n",
       "      <th>10</th>\n",
       "      <td>MaritalStatus</td>\n",
       "      <td>0.059258</td>\n",
       "    </tr>\n",
       "    <tr>\n",
       "      <th>13</th>\n",
       "      <td>PitchSatisfactionScore</td>\n",
       "      <td>0.058948</td>\n",
       "    </tr>\n",
       "    <tr>\n",
       "      <th>7</th>\n",
       "      <td>NumberOfFollowups</td>\n",
       "      <td>0.050449</td>\n",
       "    </tr>\n",
       "    <tr>\n",
       "      <th>9</th>\n",
       "      <td>PreferredPropertyStar</td>\n",
       "      <td>0.042846</td>\n",
       "    </tr>\n",
       "    <tr>\n",
       "      <th>4</th>\n",
       "      <td>Occupation</td>\n",
       "      <td>0.041034</td>\n",
       "    </tr>\n",
       "    <tr>\n",
       "      <th>16</th>\n",
       "      <td>Designation</td>\n",
       "      <td>0.034241</td>\n",
       "    </tr>\n",
       "    <tr>\n",
       "      <th>8</th>\n",
       "      <td>ProductPitched</td>\n",
       "      <td>0.033505</td>\n",
       "    </tr>\n",
       "    <tr>\n",
       "      <th>2</th>\n",
       "      <td>CityTier</td>\n",
       "      <td>0.032231</td>\n",
       "    </tr>\n",
       "    <tr>\n",
       "      <th>15</th>\n",
       "      <td>NumberOfChildrenVisiting</td>\n",
       "      <td>0.028260</td>\n",
       "    </tr>\n",
       "    <tr>\n",
       "      <th>6</th>\n",
       "      <td>NumberOfPersonVisiting</td>\n",
       "      <td>0.026836</td>\n",
       "    </tr>\n",
       "    <tr>\n",
       "      <th>1</th>\n",
       "      <td>TypeofContact</td>\n",
       "      <td>0.026122</td>\n",
       "    </tr>\n",
       "    <tr>\n",
       "      <th>5</th>\n",
       "      <td>Gender</td>\n",
       "      <td>0.025926</td>\n",
       "    </tr>\n",
       "    <tr>\n",
       "      <th>14</th>\n",
       "      <td>OwnCar</td>\n",
       "      <td>0.019562</td>\n",
       "    </tr>\n",
       "  </tbody>\n",
       "</table>\n",
       "</div>"
      ],
      "text/plain": [
       "                      Column  Importance\n",
       "17             MonthlyIncome    0.137757\n",
       "0                        Age    0.133429\n",
       "3            DurationOfPitch    0.105848\n",
       "12                  Passport    0.077495\n",
       "11             NumberOfTrips    0.066254\n",
       "10             MaritalStatus    0.059258\n",
       "13    PitchSatisfactionScore    0.058948\n",
       "7          NumberOfFollowups    0.050449\n",
       "9      PreferredPropertyStar    0.042846\n",
       "4                 Occupation    0.041034\n",
       "16               Designation    0.034241\n",
       "8             ProductPitched    0.033505\n",
       "2                   CityTier    0.032231\n",
       "15  NumberOfChildrenVisiting    0.028260\n",
       "6     NumberOfPersonVisiting    0.026836\n",
       "1              TypeofContact    0.026122\n",
       "5                     Gender    0.025926\n",
       "14                    OwnCar    0.019562"
      ]
     },
     "execution_count": 54,
     "metadata": {},
     "output_type": "execute_result"
    }
   ],
   "source": [
    "# Call the get_feature_importances function\n",
    "importance_features = get_feature_importances(X_train, rf)\n",
    "importance_features"
   ]
  },
  {
   "cell_type": "markdown",
   "id": "4fcbb789",
   "metadata": {},
   "source": [
    "### Single Tree "
   ]
  },
  {
   "cell_type": "code",
   "execution_count": 55,
   "id": "e4781973",
   "metadata": {},
   "outputs": [
    {
     "data": {
      "image/png": "[encoded data removed]",
      "text/plain": [
       "<Figure size 2880x1440 with 1 Axes>"
      ]
     },
     "metadata": {
      "needs_background": "light"
     },
     "output_type": "display_data"
    }
   ],
   "source": [
    "# Get the first tree from the Random Forest model\n",
    "tree_index = 4 # Change this index to visualize a different tree\n",
    "tree_estimator = rf.estimators_[tree_index]\n",
    "\n",
    "# Plot the decision tree\n",
    "fig, ax = plt.subplots(figsize=(40, 20))\n",
    "tree.plot_tree(tree_estimator, feature_names=X_train.columns, class_names=[str(c) for c in rf.classes_], filled=True, ax=ax, max_depth=2)  # Adjust max_depth \n",
    "\n",
    "# Set plot title and axis labels\n",
    "ax.set_xlabel(\"Features\")\n",
    "ax.set_ylabel(\"Classes\")\n",
    "\n",
    "# Save the image\n",
    "desktop_path = os.path.expanduser(\"~/Desktop\")  \n",
    "image_path = os.path.join(desktop_path, 'tree_visualization.png')\n",
    "fig.savefig(image_path, bbox_inches='tight', pad_inches=0)\n",
    "\n",
    "# Show the plot\n",
    "plt.show()"
   ]
  },
  {
   "cell_type": "markdown",
   "id": "ed24e599",
   "metadata": {},
   "source": [
    "### Hyperparameter Tuning - RandomSearchCV"
   ]
  },
  {
   "cell_type": "code",
   "execution_count": 57,
   "id": "f833337f",
   "metadata": {},
   "outputs": [
    {
     "name": "stdout",
     "output_type": "stream",
     "text": [
      "Execution time 13.42323112487793 seconds\n"
     ]
    }
   ],
   "source": [
    "param_dist = {'n_estimators': randint(50,500),\n",
    "              'max_depth': randint(1,20)}\n",
    "\n",
    "start_time = time.time()\n",
    "\n",
    "# Use random search to find the best hyperparameters\n",
    "rand_search = RandomizedSearchCV(rf, \n",
    "                                 param_distributions = param_dist, \n",
    "                                 n_iter=5, \n",
    "                                 cv=5)\n",
    "\n",
    "# Fit the random search object to the data\n",
    "rand_search.fit(X_train, y_train)\n",
    "\n",
    "end_time = time.time()\n",
    "execution_time = end_time - start_time \n",
    "print(\"Execution time\", execution_time, \"seconds\")"
   ]
  },
  {
   "cell_type": "code",
   "execution_count": 58,
   "id": "4961d6a1",
   "metadata": {},
   "outputs": [
    {
     "name": "stdout",
     "output_type": "stream",
     "text": [
      "Best hyperparameters: {'max_depth': 18, 'n_estimators': 330}\n"
     ]
    }
   ],
   "source": [
    "# Create a variable for the best model\n",
    "best_rf = rand_search.best_estimator_\n",
    "\n",
    "# Print the best hyperparameters\n",
    "print('Best hyperparameters:',  rand_search.best_params_)"
   ]
  },
  {
   "cell_type": "markdown",
   "id": "a798152b",
   "metadata": {},
   "source": [
    "### Area Under the ROC Curve - best parameters"
   ]
  },
  {
   "cell_type": "code",
   "execution_count": 59,
   "id": "5be1d7ee",
   "metadata": {},
   "outputs": [
    {
     "data": {
      "image/png": "[encoded data removed]",
      "text/plain": [
       "<Figure size 432x288 with 1 Axes>"
      ]
     },
     "metadata": {
      "needs_background": "light"
     },
     "output_type": "display_data"
    }
   ],
   "source": [
    "# Call the auc_plot function\n",
    "y_pred_proba_best = best_rf.predict_proba(X_test)[:, 1]\n",
    "auc_plot(y_test, y_pred_proba_best)"
   ]
  },
  {
   "cell_type": "markdown",
   "id": "f1936302",
   "metadata": {},
   "source": [
    "### Classification Report - best parameters"
   ]
  },
  {
   "cell_type": "code",
   "execution_count": 60,
   "id": "9fda8701",
   "metadata": {},
   "outputs": [
    {
     "name": "stdout",
     "output_type": "stream",
     "text": [
      "              precision    recall  f1-score   support\n",
      "\n",
      "           0       0.92      0.98      0.95       794\n",
      "           1       0.90      0.64      0.75       183\n",
      "\n",
      "    accuracy                           0.92       977\n",
      "   macro avg       0.91      0.81      0.85       977\n",
      "weighted avg       0.92      0.92      0.91       977\n",
      "\n"
     ]
    }
   ],
   "source": [
    "# Create a variable for the best model\n",
    "best_rf = rand_search.best_estimator_\n",
    "\n",
    "# Generate predictions on the testing data using the best model\n",
    "y_pred = best_rf.predict(X_test)\n",
    "\n",
    "# Print the classification report\n",
    "report = classification_report(y_test, y_pred)\n",
    "print(report)"
   ]
  },
  {
   "cell_type": "markdown",
   "id": "f689309c",
   "metadata": {},
   "source": [
    "### Confusion Matrix - best parameters"
   ]
  },
  {
   "cell_type": "code",
   "execution_count": 61,
   "id": "7cb91fe0",
   "metadata": {},
   "outputs": [
    {
     "data": {
      "image/png": "[encoded data removed]",
      "text/plain": [
       "<Figure size 432x288 with 2 Axes>"
      ]
     },
     "metadata": {
      "needs_background": "light"
     },
     "output_type": "display_data"
    }
   ],
   "source": [
    "# Generate predictions with the best model\n",
    "y_pred = best_rf.predict(X_test)\n",
    "\n",
    "# Create the confusion matrix\n",
    "cm = confusion_matrix(y_test, y_pred)\n",
    "\n",
    "ConfusionMatrixDisplay(confusion_matrix=cm).plot();"
   ]
  },
  {
   "cell_type": "markdown",
   "id": "1322a896",
   "metadata": {},
   "source": [
    "### Feature importances - best parameters"
   ]
  },
  {
   "cell_type": "code",
   "execution_count": 62,
   "id": "dedb3fa3",
   "metadata": {},
   "outputs": [
    {
     "data": {
      "image/png": "[encoded data removed]",
      "text/plain": [
       "<Figure size 432x288 with 1 Axes>"
      ]
     },
     "metadata": {
      "needs_background": "light"
     },
     "output_type": "display_data"
    }
   ],
   "source": [
    "# Call the plot_feature_importances function\n",
    "plot_feature_importances(best_rf, X.columns)"
   ]
  },
  {
   "cell_type": "code",
   "execution_count": 63,
   "id": "4cd6de12",
   "metadata": {},
   "outputs": [
    {
     "data": {
      "text/html": [
       "<div>\n",
       "<style scoped>\n",
       "    .dataframe tbody tr th:only-of-type {\n",
       "        vertical-align: middle;\n",
       "    }\n",
       "\n",
       "    .dataframe tbody tr th {\n",
       "        vertical-align: top;\n",
       "    }\n",
       "\n",
       "    .dataframe thead th {\n",
       "        text-align: right;\n",
       "    }\n",
       "</style>\n",
       "<table border=\"1\" class=\"dataframe\">\n",
       "  <thead>\n",
       "    <tr style=\"text-align: right;\">\n",
       "      <th></th>\n",
       "      <th>Column</th>\n",
       "      <th>Importance</th>\n",
       "    </tr>\n",
       "  </thead>\n",
       "  <tbody>\n",
       "    <tr>\n",
       "      <th>17</th>\n",
       "      <td>MonthlyIncome</td>\n",
       "      <td>0.135935</td>\n",
       "    </tr>\n",
       "    <tr>\n",
       "      <th>0</th>\n",
       "      <td>Age</td>\n",
       "      <td>0.135466</td>\n",
       "    </tr>\n",
       "    <tr>\n",
       "      <th>3</th>\n",
       "      <td>DurationOfPitch</td>\n",
       "      <td>0.108274</td>\n",
       "    </tr>\n",
       "    <tr>\n",
       "      <th>12</th>\n",
       "      <td>Passport</td>\n",
       "      <td>0.075888</td>\n",
       "    </tr>\n",
       "    <tr>\n",
       "      <th>11</th>\n",
       "      <td>NumberOfTrips</td>\n",
       "      <td>0.064548</td>\n",
       "    </tr>\n",
       "    <tr>\n",
       "      <th>13</th>\n",
       "      <td>PitchSatisfactionScore</td>\n",
       "      <td>0.058915</td>\n",
       "    </tr>\n",
       "    <tr>\n",
       "      <th>10</th>\n",
       "      <td>MaritalStatus</td>\n",
       "      <td>0.058826</td>\n",
       "    </tr>\n",
       "    <tr>\n",
       "      <th>7</th>\n",
       "      <td>NumberOfFollowups</td>\n",
       "      <td>0.052227</td>\n",
       "    </tr>\n",
       "    <tr>\n",
       "      <th>9</th>\n",
       "      <td>PreferredPropertyStar</td>\n",
       "      <td>0.042598</td>\n",
       "    </tr>\n",
       "    <tr>\n",
       "      <th>4</th>\n",
       "      <td>Occupation</td>\n",
       "      <td>0.038848</td>\n",
       "    </tr>\n",
       "    <tr>\n",
       "      <th>16</th>\n",
       "      <td>Designation</td>\n",
       "      <td>0.035632</td>\n",
       "    </tr>\n",
       "    <tr>\n",
       "      <th>8</th>\n",
       "      <td>ProductPitched</td>\n",
       "      <td>0.034695</td>\n",
       "    </tr>\n",
       "    <tr>\n",
       "      <th>2</th>\n",
       "      <td>CityTier</td>\n",
       "      <td>0.033145</td>\n",
       "    </tr>\n",
       "    <tr>\n",
       "      <th>15</th>\n",
       "      <td>NumberOfChildrenVisiting</td>\n",
       "      <td>0.029075</td>\n",
       "    </tr>\n",
       "    <tr>\n",
       "      <th>6</th>\n",
       "      <td>NumberOfPersonVisiting</td>\n",
       "      <td>0.027306</td>\n",
       "    </tr>\n",
       "    <tr>\n",
       "      <th>5</th>\n",
       "      <td>Gender</td>\n",
       "      <td>0.025031</td>\n",
       "    </tr>\n",
       "    <tr>\n",
       "      <th>1</th>\n",
       "      <td>TypeofContact</td>\n",
       "      <td>0.024026</td>\n",
       "    </tr>\n",
       "    <tr>\n",
       "      <th>14</th>\n",
       "      <td>OwnCar</td>\n",
       "      <td>0.019567</td>\n",
       "    </tr>\n",
       "  </tbody>\n",
       "</table>\n",
       "</div>"
      ],
      "text/plain": [
       "                      Column  Importance\n",
       "17             MonthlyIncome    0.135935\n",
       "0                        Age    0.135466\n",
       "3            DurationOfPitch    0.108274\n",
       "12                  Passport    0.075888\n",
       "11             NumberOfTrips    0.064548\n",
       "13    PitchSatisfactionScore    0.058915\n",
       "10             MaritalStatus    0.058826\n",
       "7          NumberOfFollowups    0.052227\n",
       "9      PreferredPropertyStar    0.042598\n",
       "4                 Occupation    0.038848\n",
       "16               Designation    0.035632\n",
       "8             ProductPitched    0.034695\n",
       "2                   CityTier    0.033145\n",
       "15  NumberOfChildrenVisiting    0.029075\n",
       "6     NumberOfPersonVisiting    0.027306\n",
       "5                     Gender    0.025031\n",
       "1              TypeofContact    0.024026\n",
       "14                    OwnCar    0.019567"
      ]
     },
     "execution_count": 63,
     "metadata": {},
     "output_type": "execute_result"
    }
   ],
   "source": [
    "# Call the get_feature_importances function\n",
    "importance_features_best = get_feature_importances(X_train, best_rf)\n",
    "importance_features_best"
   ]
  },
  {
   "cell_type": "markdown",
   "id": "dc981c27",
   "metadata": {},
   "source": [
    "### Single tree - best parameters"
   ]
  },
  {
   "cell_type": "code",
   "execution_count": 64,
   "id": "025e76d4",
   "metadata": {},
   "outputs": [
    {
     "data": {
      "image/png": "[encoded data removed]",
      "text/plain": [
       "<Figure size 2880x1440 with 1 Axes>"
      ]
     },
     "metadata": {
      "needs_background": "light"
     },
     "output_type": "display_data"
    }
   ],
   "source": [
    "# Get the first tree from the Random Forest model\n",
    "tree_index = 5 # Change this index to visualize a different tree\n",
    "tree_estimator = best_rf.estimators_[tree_index]\n",
    "\n",
    "# Plot the decision tree\n",
    "fig, ax = plt.subplots(figsize=(40, 20))\n",
    "tree.plot_tree(tree_estimator, feature_names=X_train.columns, class_names=[str(c) for c in rf.classes_], filled=True, ax=ax, max_depth=2)  # Adjust max_depth \n",
    "\n",
    "# Set plot title and axis labels\n",
    "ax.set_xlabel(\"Features\")\n",
    "ax.set_ylabel(\"Classes\")\n",
    "\n",
    "# Save the image\n",
    "desktop_path = os.path.expanduser(\"~/Desktop\")  \n",
    "image_path = os.path.join(desktop_path, 'tree_visualization.png')\n",
    "fig.savefig(image_path, bbox_inches='tight', pad_inches=0)\n",
    "\n",
    "# Show the plot\n",
    "plt.show()"
   ]
  }
 ],
 "metadata": {
  "kernelspec": {
   "display_name": "Python 3 (ipykernel)",
   "language": "python",
   "name": "python3"
  },
  "language_info": {
   "codemirror_mode": {
    "name": "ipython",
    "version": 3
   },
   "file_extension": ".py",
   "mimetype": "text/x-python",
   "name": "python",
   "nbconvert_exporter": "python",
   "pygments_lexer": "ipython3",
   "version": "3.9.12"
  }
 },
 "nbformat": 4,
 "nbformat_minor": 5
}
